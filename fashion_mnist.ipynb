{
  "nbformat": 4,
  "nbformat_minor": 0,
  "metadata": {
    "colab": {
      "name": "fashion-mnist.ipynb",
      "provenance": [],
      "collapsed_sections": [],
      "authorship_tag": "ABX9TyOb+39BixkhGil5lsUq1LBb",
      "include_colab_link": true
    },
    "kernelspec": {
      "name": "python3",
      "display_name": "Python 3"
    },
    "language_info": {
      "name": "python"
    },
    "accelerator": "GPU"
  },
  "cells": [
    {
      "cell_type": "markdown",
      "metadata": {
        "id": "view-in-github",
        "colab_type": "text"
      },
      "source": [
        "<a href=\"https://colab.research.google.com/github/lauranenart/Care/blob/master/fashion_mnist.ipynb\" target=\"_parent\"><img src=\"https://colab.research.google.com/assets/colab-badge.svg\" alt=\"Open In Colab\"/></a>"
      ]
    },
    {
      "cell_type": "code",
      "execution_count": 2,
      "metadata": {
        "colab": {
          "base_uri": "https://localhost:8080/",
          "height": 1000
        },
        "id": "fd7dQMTrcvRy",
        "outputId": "baf4ae2f-db20-4b15-a6ea-768073d15811"
      },
      "outputs": [
        {
          "output_type": "stream",
          "name": "stdout",
          "text": [
            "Collecting d2l==0.17.2\n",
            "  Downloading d2l-0.17.2-py3-none-any.whl (82 kB)\n",
            "\u001b[K     |████████████████████████████████| 82 kB 582 kB/s \n",
            "\u001b[?25hCollecting numpy==1.18.5\n",
            "  Downloading numpy-1.18.5-cp37-cp37m-manylinux1_x86_64.whl (20.1 MB)\n",
            "\u001b[K     |████████████████████████████████| 20.1 MB 62.9 MB/s \n",
            "\u001b[?25hCollecting matplotlib==3.3.3\n",
            "  Downloading matplotlib-3.3.3-cp37-cp37m-manylinux1_x86_64.whl (11.6 MB)\n",
            "\u001b[K     |████████████████████████████████| 11.6 MB 41.4 MB/s \n",
            "\u001b[?25hRequirement already satisfied: jupyter==1.0.0 in /usr/local/lib/python3.7/dist-packages (from d2l==0.17.2) (1.0.0)\n",
            "Collecting pandas==1.2.2\n",
            "  Downloading pandas-1.2.2-cp37-cp37m-manylinux1_x86_64.whl (9.9 MB)\n",
            "\u001b[K     |████████████████████████████████| 9.9 MB 36.2 MB/s \n",
            "\u001b[?25hCollecting requests==2.25.1\n",
            "  Downloading requests-2.25.1-py2.py3-none-any.whl (61 kB)\n",
            "\u001b[K     |████████████████████████████████| 61 kB 7.3 MB/s \n",
            "\u001b[?25hRequirement already satisfied: qtconsole in /usr/local/lib/python3.7/dist-packages (from jupyter==1.0.0->d2l==0.17.2) (5.2.2)\n",
            "Requirement already satisfied: nbconvert in /usr/local/lib/python3.7/dist-packages (from jupyter==1.0.0->d2l==0.17.2) (5.6.1)\n",
            "Requirement already satisfied: ipykernel in /usr/local/lib/python3.7/dist-packages (from jupyter==1.0.0->d2l==0.17.2) (4.10.1)\n",
            "Requirement already satisfied: ipywidgets in /usr/local/lib/python3.7/dist-packages (from jupyter==1.0.0->d2l==0.17.2) (7.6.5)\n",
            "Requirement already satisfied: jupyter-console in /usr/local/lib/python3.7/dist-packages (from jupyter==1.0.0->d2l==0.17.2) (5.2.0)\n",
            "Requirement already satisfied: notebook in /usr/local/lib/python3.7/dist-packages (from jupyter==1.0.0->d2l==0.17.2) (5.3.1)\n",
            "Requirement already satisfied: pyparsing!=2.0.4,!=2.1.2,!=2.1.6,>=2.0.3 in /usr/local/lib/python3.7/dist-packages (from matplotlib==3.3.3->d2l==0.17.2) (3.0.7)\n",
            "Requirement already satisfied: pillow>=6.2.0 in /usr/local/lib/python3.7/dist-packages (from matplotlib==3.3.3->d2l==0.17.2) (7.1.2)\n",
            "Requirement already satisfied: kiwisolver>=1.0.1 in /usr/local/lib/python3.7/dist-packages (from matplotlib==3.3.3->d2l==0.17.2) (1.3.2)\n",
            "Requirement already satisfied: cycler>=0.10 in /usr/local/lib/python3.7/dist-packages (from matplotlib==3.3.3->d2l==0.17.2) (0.11.0)\n",
            "Requirement already satisfied: python-dateutil>=2.1 in /usr/local/lib/python3.7/dist-packages (from matplotlib==3.3.3->d2l==0.17.2) (2.8.2)\n",
            "Requirement already satisfied: pytz>=2017.3 in /usr/local/lib/python3.7/dist-packages (from pandas==1.2.2->d2l==0.17.2) (2018.9)\n",
            "Requirement already satisfied: certifi>=2017.4.17 in /usr/local/lib/python3.7/dist-packages (from requests==2.25.1->d2l==0.17.2) (2021.10.8)\n",
            "Requirement already satisfied: chardet<5,>=3.0.2 in /usr/local/lib/python3.7/dist-packages (from requests==2.25.1->d2l==0.17.2) (3.0.4)\n",
            "Requirement already satisfied: idna<3,>=2.5 in /usr/local/lib/python3.7/dist-packages (from requests==2.25.1->d2l==0.17.2) (2.10)\n",
            "Requirement already satisfied: urllib3<1.27,>=1.21.1 in /usr/local/lib/python3.7/dist-packages (from requests==2.25.1->d2l==0.17.2) (1.24.3)\n",
            "Requirement already satisfied: six>=1.5 in /usr/local/lib/python3.7/dist-packages (from python-dateutil>=2.1->matplotlib==3.3.3->d2l==0.17.2) (1.15.0)\n",
            "Requirement already satisfied: traitlets>=4.1.0 in /usr/local/lib/python3.7/dist-packages (from ipykernel->jupyter==1.0.0->d2l==0.17.2) (5.1.1)\n",
            "Requirement already satisfied: tornado>=4.0 in /usr/local/lib/python3.7/dist-packages (from ipykernel->jupyter==1.0.0->d2l==0.17.2) (5.1.1)\n",
            "Requirement already satisfied: jupyter-client in /usr/local/lib/python3.7/dist-packages (from ipykernel->jupyter==1.0.0->d2l==0.17.2) (5.3.5)\n",
            "Requirement already satisfied: ipython>=4.0.0 in /usr/local/lib/python3.7/dist-packages (from ipykernel->jupyter==1.0.0->d2l==0.17.2) (5.5.0)\n",
            "Requirement already satisfied: simplegeneric>0.8 in /usr/local/lib/python3.7/dist-packages (from ipython>=4.0.0->ipykernel->jupyter==1.0.0->d2l==0.17.2) (0.8.1)\n",
            "Requirement already satisfied: prompt-toolkit<2.0.0,>=1.0.4 in /usr/local/lib/python3.7/dist-packages (from ipython>=4.0.0->ipykernel->jupyter==1.0.0->d2l==0.17.2) (1.0.18)\n",
            "Requirement already satisfied: setuptools>=18.5 in /usr/local/lib/python3.7/dist-packages (from ipython>=4.0.0->ipykernel->jupyter==1.0.0->d2l==0.17.2) (57.4.0)\n",
            "Requirement already satisfied: pygments in /usr/local/lib/python3.7/dist-packages (from ipython>=4.0.0->ipykernel->jupyter==1.0.0->d2l==0.17.2) (2.6.1)\n",
            "Requirement already satisfied: decorator in /usr/local/lib/python3.7/dist-packages (from ipython>=4.0.0->ipykernel->jupyter==1.0.0->d2l==0.17.2) (4.4.2)\n",
            "Requirement already satisfied: pickleshare in /usr/local/lib/python3.7/dist-packages (from ipython>=4.0.0->ipykernel->jupyter==1.0.0->d2l==0.17.2) (0.7.5)\n",
            "Requirement already satisfied: pexpect in /usr/local/lib/python3.7/dist-packages (from ipython>=4.0.0->ipykernel->jupyter==1.0.0->d2l==0.17.2) (4.8.0)\n",
            "Requirement already satisfied: wcwidth in /usr/local/lib/python3.7/dist-packages (from prompt-toolkit<2.0.0,>=1.0.4->ipython>=4.0.0->ipykernel->jupyter==1.0.0->d2l==0.17.2) (0.2.5)\n",
            "Requirement already satisfied: nbformat>=4.2.0 in /usr/local/lib/python3.7/dist-packages (from ipywidgets->jupyter==1.0.0->d2l==0.17.2) (5.1.3)\n",
            "Requirement already satisfied: ipython-genutils~=0.2.0 in /usr/local/lib/python3.7/dist-packages (from ipywidgets->jupyter==1.0.0->d2l==0.17.2) (0.2.0)\n",
            "Requirement already satisfied: jupyterlab-widgets>=1.0.0 in /usr/local/lib/python3.7/dist-packages (from ipywidgets->jupyter==1.0.0->d2l==0.17.2) (1.0.2)\n",
            "Requirement already satisfied: widgetsnbextension~=3.5.0 in /usr/local/lib/python3.7/dist-packages (from ipywidgets->jupyter==1.0.0->d2l==0.17.2) (3.5.2)\n",
            "Requirement already satisfied: jsonschema!=2.5.0,>=2.4 in /usr/local/lib/python3.7/dist-packages (from nbformat>=4.2.0->ipywidgets->jupyter==1.0.0->d2l==0.17.2) (4.3.3)\n",
            "Requirement already satisfied: jupyter-core in /usr/local/lib/python3.7/dist-packages (from nbformat>=4.2.0->ipywidgets->jupyter==1.0.0->d2l==0.17.2) (4.9.2)\n",
            "Requirement already satisfied: pyrsistent!=0.17.0,!=0.17.1,!=0.17.2,>=0.14.0 in /usr/local/lib/python3.7/dist-packages (from jsonschema!=2.5.0,>=2.4->nbformat>=4.2.0->ipywidgets->jupyter==1.0.0->d2l==0.17.2) (0.18.1)\n",
            "Requirement already satisfied: importlib-metadata in /usr/local/lib/python3.7/dist-packages (from jsonschema!=2.5.0,>=2.4->nbformat>=4.2.0->ipywidgets->jupyter==1.0.0->d2l==0.17.2) (4.11.2)\n",
            "Requirement already satisfied: importlib-resources>=1.4.0 in /usr/local/lib/python3.7/dist-packages (from jsonschema!=2.5.0,>=2.4->nbformat>=4.2.0->ipywidgets->jupyter==1.0.0->d2l==0.17.2) (5.4.0)\n",
            "Requirement already satisfied: attrs>=17.4.0 in /usr/local/lib/python3.7/dist-packages (from jsonschema!=2.5.0,>=2.4->nbformat>=4.2.0->ipywidgets->jupyter==1.0.0->d2l==0.17.2) (21.4.0)\n",
            "Requirement already satisfied: typing-extensions in /usr/local/lib/python3.7/dist-packages (from jsonschema!=2.5.0,>=2.4->nbformat>=4.2.0->ipywidgets->jupyter==1.0.0->d2l==0.17.2) (3.10.0.2)\n",
            "Requirement already satisfied: zipp>=3.1.0 in /usr/local/lib/python3.7/dist-packages (from importlib-resources>=1.4.0->jsonschema!=2.5.0,>=2.4->nbformat>=4.2.0->ipywidgets->jupyter==1.0.0->d2l==0.17.2) (3.7.0)\n",
            "Requirement already satisfied: terminado>=0.8.1 in /usr/local/lib/python3.7/dist-packages (from notebook->jupyter==1.0.0->d2l==0.17.2) (0.13.3)\n",
            "Requirement already satisfied: jinja2 in /usr/local/lib/python3.7/dist-packages (from notebook->jupyter==1.0.0->d2l==0.17.2) (2.11.3)\n",
            "Requirement already satisfied: Send2Trash in /usr/local/lib/python3.7/dist-packages (from notebook->jupyter==1.0.0->d2l==0.17.2) (1.8.0)\n",
            "Requirement already satisfied: pyzmq>=13 in /usr/local/lib/python3.7/dist-packages (from jupyter-client->ipykernel->jupyter==1.0.0->d2l==0.17.2) (22.3.0)\n",
            "Requirement already satisfied: ptyprocess in /usr/local/lib/python3.7/dist-packages (from terminado>=0.8.1->notebook->jupyter==1.0.0->d2l==0.17.2) (0.7.0)\n",
            "Requirement already satisfied: MarkupSafe>=0.23 in /usr/local/lib/python3.7/dist-packages (from jinja2->notebook->jupyter==1.0.0->d2l==0.17.2) (2.0.1)\n",
            "Requirement already satisfied: mistune<2,>=0.8.1 in /usr/local/lib/python3.7/dist-packages (from nbconvert->jupyter==1.0.0->d2l==0.17.2) (0.8.4)\n",
            "Requirement already satisfied: defusedxml in /usr/local/lib/python3.7/dist-packages (from nbconvert->jupyter==1.0.0->d2l==0.17.2) (0.7.1)\n",
            "Requirement already satisfied: entrypoints>=0.2.2 in /usr/local/lib/python3.7/dist-packages (from nbconvert->jupyter==1.0.0->d2l==0.17.2) (0.4)\n",
            "Requirement already satisfied: pandocfilters>=1.4.1 in /usr/local/lib/python3.7/dist-packages (from nbconvert->jupyter==1.0.0->d2l==0.17.2) (1.5.0)\n",
            "Requirement already satisfied: testpath in /usr/local/lib/python3.7/dist-packages (from nbconvert->jupyter==1.0.0->d2l==0.17.2) (0.6.0)\n",
            "Requirement already satisfied: bleach in /usr/local/lib/python3.7/dist-packages (from nbconvert->jupyter==1.0.0->d2l==0.17.2) (4.1.0)\n",
            "Requirement already satisfied: webencodings in /usr/local/lib/python3.7/dist-packages (from bleach->nbconvert->jupyter==1.0.0->d2l==0.17.2) (0.5.1)\n",
            "Requirement already satisfied: packaging in /usr/local/lib/python3.7/dist-packages (from bleach->nbconvert->jupyter==1.0.0->d2l==0.17.2) (21.3)\n",
            "Requirement already satisfied: qtpy in /usr/local/lib/python3.7/dist-packages (from qtconsole->jupyter==1.0.0->d2l==0.17.2) (2.0.1)\n",
            "Installing collected packages: numpy, requests, pandas, matplotlib, d2l\n",
            "  Attempting uninstall: numpy\n",
            "    Found existing installation: numpy 1.21.5\n",
            "    Uninstalling numpy-1.21.5:\n",
            "      Successfully uninstalled numpy-1.21.5\n",
            "  Attempting uninstall: requests\n",
            "    Found existing installation: requests 2.23.0\n",
            "    Uninstalling requests-2.23.0:\n",
            "      Successfully uninstalled requests-2.23.0\n",
            "  Attempting uninstall: pandas\n",
            "    Found existing installation: pandas 1.3.5\n",
            "    Uninstalling pandas-1.3.5:\n",
            "      Successfully uninstalled pandas-1.3.5\n",
            "  Attempting uninstall: matplotlib\n",
            "    Found existing installation: matplotlib 3.2.2\n",
            "    Uninstalling matplotlib-3.2.2:\n",
            "      Successfully uninstalled matplotlib-3.2.2\n",
            "\u001b[31mERROR: pip's dependency resolver does not currently take into account all the packages that are installed. This behaviour is the source of the following dependency conflicts.\n",
            "tensorflow 2.8.0 requires tf-estimator-nightly==2.8.0.dev2021122109, which is not installed.\n",
            "tensorflow 2.8.0 requires numpy>=1.20, but you have numpy 1.18.5 which is incompatible.\n",
            "tables 3.7.0 requires numpy>=1.19.0, but you have numpy 1.18.5 which is incompatible.\n",
            "jaxlib 0.3.0+cuda11.cudnn805 requires numpy>=1.19, but you have numpy 1.18.5 which is incompatible.\n",
            "jax 0.3.1 requires numpy>=1.19, but you have numpy 1.18.5 which is incompatible.\n",
            "google-colab 1.0.0 requires requests~=2.23.0, but you have requests 2.25.1 which is incompatible.\n",
            "datascience 0.10.6 requires folium==0.2.1, but you have folium 0.8.3 which is incompatible.\n",
            "albumentations 0.1.12 requires imgaug<0.2.7,>=0.2.5, but you have imgaug 0.2.9 which is incompatible.\u001b[0m\n",
            "Successfully installed d2l-0.17.2 matplotlib-3.3.3 numpy-1.18.5 pandas-1.2.2 requests-2.25.1\n"
          ]
        },
        {
          "output_type": "display_data",
          "data": {
            "application/vnd.colab-display-data+json": {
              "pip_warning": {
                "packages": [
                  "matplotlib",
                  "mpl_toolkits",
                  "numpy"
                ]
              }
            }
          },
          "metadata": {}
        }
      ],
      "source": [
        "!pip install d2l==0.17.2"
      ]
    },
    {
      "cell_type": "code",
      "source": [
        "!pip install matplotlib==3.0.2"
      ],
      "metadata": {
        "colab": {
          "base_uri": "https://localhost:8080/",
          "height": 450
        },
        "id": "NWZoHFa9c1sy",
        "outputId": "206a0d63-3d24-4ea5-e70e-f0ed05783a1c"
      },
      "execution_count": 3,
      "outputs": [
        {
          "output_type": "stream",
          "name": "stdout",
          "text": [
            "Collecting matplotlib==3.0.2\n",
            "  Downloading matplotlib-3.0.2-cp37-cp37m-manylinux1_x86_64.whl (12.9 MB)\n",
            "\u001b[K     |████████████████████████████████| 12.9 MB 3.8 MB/s \n",
            "\u001b[?25hRequirement already satisfied: python-dateutil>=2.1 in /usr/local/lib/python3.7/dist-packages (from matplotlib==3.0.2) (2.8.2)\n",
            "Requirement already satisfied: kiwisolver>=1.0.1 in /usr/local/lib/python3.7/dist-packages (from matplotlib==3.0.2) (1.3.2)\n",
            "Requirement already satisfied: cycler>=0.10 in /usr/local/lib/python3.7/dist-packages (from matplotlib==3.0.2) (0.11.0)\n",
            "Requirement already satisfied: numpy>=1.10.0 in /usr/local/lib/python3.7/dist-packages (from matplotlib==3.0.2) (1.18.5)\n",
            "Requirement already satisfied: pyparsing!=2.0.4,!=2.1.2,!=2.1.6,>=2.0.1 in /usr/local/lib/python3.7/dist-packages (from matplotlib==3.0.2) (3.0.7)\n",
            "Requirement already satisfied: six>=1.5 in /usr/local/lib/python3.7/dist-packages (from python-dateutil>=2.1->matplotlib==3.0.2) (1.15.0)\n",
            "Installing collected packages: matplotlib\n",
            "  Attempting uninstall: matplotlib\n",
            "    Found existing installation: matplotlib 3.3.3\n",
            "    Uninstalling matplotlib-3.3.3:\n",
            "      Successfully uninstalled matplotlib-3.3.3\n",
            "\u001b[31mERROR: pip's dependency resolver does not currently take into account all the packages that are installed. This behaviour is the source of the following dependency conflicts.\n",
            "plotnine 0.6.0 requires matplotlib>=3.1.1, but you have matplotlib 3.0.2 which is incompatible.\n",
            "mizani 0.6.0 requires matplotlib>=3.1.1, but you have matplotlib 3.0.2 which is incompatible.\n",
            "d2l 0.17.2 requires matplotlib==3.3.3, but you have matplotlib 3.0.2 which is incompatible.\n",
            "albumentations 0.1.12 requires imgaug<0.2.7,>=0.2.5, but you have imgaug 0.2.9 which is incompatible.\u001b[0m\n",
            "Successfully installed matplotlib-3.0.2\n"
          ]
        },
        {
          "output_type": "display_data",
          "data": {
            "application/vnd.colab-display-data+json": {
              "pip_warning": {
                "packages": [
                  "matplotlib",
                  "mpl_toolkits"
                ]
              }
            }
          },
          "metadata": {}
        }
      ]
    },
    {
      "cell_type": "code",
      "source": [
        "import torch\n",
        "import torchvision\n",
        "from torch.utils import data\n",
        "from torchvision import transforms\n",
        "from d2l import torch as d2l\n",
        "import torch.nn as nn\n",
        "import matplotlib.pyplot as plt\n",
        "%matplotlib inline\n",
        "import PIL\n",
        "import numpy as np\n",
        "\n",
        "d2l.use_svg_display()"
      ],
      "metadata": {
        "id": "3eGFHodZc48h"
      },
      "execution_count": 4,
      "outputs": []
    },
    {
      "cell_type": "code",
      "source": [
        "transform_train = transforms.Compose([\n",
        "      transforms.ColorJitter(brightness=0.2, contrast=0.2),\n",
        "      transforms.RandomRotation(degrees=20, interpolation=PIL.Image.BILINEAR),\n",
        "      transforms.RandomHorizontalFlip(p=0.5),\n",
        "      transforms.RandomPerspective(distortion_scale=0.3, p=0.3),\n",
        "      transforms.ToTensor(),\n",
        "      transforms.Normalize(mean=(0.485,), std=(0.229,))\n",
        "  ])\n",
        "transform_valid = transforms.Compose([\n",
        "      transforms.ToTensor(),\n",
        "      transforms.Normalize(mean=(0.485,), std=(0.229,))\n",
        "  ])\n",
        "transform_examples = transforms.Compose([\n",
        "      transforms.Resize((28,28)),                              \n",
        "      transforms.Grayscale(),\n",
        "      transforms.ToTensor()\n",
        "  ])"
      ],
      "metadata": {
        "colab": {
          "base_uri": "https://localhost:8080/"
        },
        "id": "npxh-1zSc9pS",
        "outputId": "6e555868-8053-4777-c558-8c49bc3f282c"
      },
      "execution_count": 155,
      "outputs": [
        {
          "output_type": "stream",
          "name": "stderr",
          "text": [
            "/usr/local/lib/python3.7/dist-packages/torchvision/transforms/transforms.py:1256: UserWarning: Argument interpolation should be of type InterpolationMode instead of int. Please, use InterpolationMode enum.\n",
            "  \"Argument interpolation should be of type InterpolationMode instead of int. \"\n"
          ]
        }
      ]
    },
    {
      "cell_type": "code",
      "source": [
        "train = torchvision.datasets.FashionMNIST(\n",
        "    root=\"../data\", train=True, transform=transform_train, download=True)\n",
        "valid = torchvision.datasets.FashionMNIST(\n",
        "    root=\"../data\", train=False, transform=transform_valid, download=True)"
      ],
      "metadata": {
        "id": "akDCHrzJdANR"
      },
      "execution_count": 130,
      "outputs": []
    },
    {
      "cell_type": "code",
      "source": [
        "valid, test = torch.utils.data.random_split(valid, [int(0.9 *    len(valid)), int(0.1 * len(valid))])"
      ],
      "metadata": {
        "id": "EJefPs0EnGoP"
      },
      "execution_count": 132,
      "outputs": []
    },
    {
      "cell_type": "code",
      "source": [
        "len(train), len(valid)"
      ],
      "metadata": {
        "colab": {
          "base_uri": "https://localhost:8080/"
        },
        "id": "r8lUsPC8RQUc",
        "outputId": "5843faae-02fa-4798-e9e4-4315846f6efe"
      },
      "execution_count": 196,
      "outputs": [
        {
          "output_type": "execute_result",
          "data": {
            "text/plain": [
              "(60000, 9000)"
            ]
          },
          "metadata": {},
          "execution_count": 196
        }
      ]
    },
    {
      "cell_type": "code",
      "source": [
        "labels_map = {\n",
        "    0: \"T-Shirt\",\n",
        "    1: \"Trouser\",\n",
        "    2: \"Pullover\",\n",
        "    3: \"Dress\",\n",
        "    4: \"Coat\",\n",
        "    5: \"Sandal\",\n",
        "    6: \"Shirt\",\n",
        "    7: \"Sneaker\",\n",
        "    8: \"Bag\",\n",
        "    9: \"Ankle Boot\",\n",
        "}"
      ],
      "metadata": {
        "id": "Lk5g7hnndDiP"
      },
      "execution_count": 197,
      "outputs": []
    },
    {
      "cell_type": "code",
      "source": [
        "def showImage(img):\n",
        "  im = img.permute(1, 2, 0)\n",
        "  plt.imshow(im.squeeze(), cmap=\"gray\")"
      ],
      "metadata": {
        "id": "H_Fq21AKdG09"
      },
      "execution_count": 198,
      "outputs": []
    },
    {
      "cell_type": "code",
      "source": [
        "showImage(train[0][0])"
      ],
      "metadata": {
        "colab": {
          "base_uri": "https://localhost:8080/",
          "height": 353
        },
        "id": "pQNKO1qsoB_y",
        "outputId": "8c549148-6d0e-4090-f6de-fe9628b3d062"
      },
      "execution_count": 187,
      "outputs": [
        {
          "output_type": "display_data",
          "data": {
            "text/plain": [
              "<Figure size 432x288 with 1 Axes>"
            ],
            "image/svg+xml": "<?xml version=\"1.0\" encoding=\"utf-8\" standalone=\"no\"?>\n<!DOCTYPE svg PUBLIC \"-//W3C//DTD SVG 1.1//EN\"\n  \"http://www.w3.org/Graphics/SVG/1.1/DTD/svg11.dtd\">\n<!-- Created with matplotlib (https://matplotlib.org/) -->\n<svg height=\"248.518125pt\" version=\"1.1\" viewBox=\"0 0 251.565 248.518125\" width=\"251.565pt\" xmlns=\"http://www.w3.org/2000/svg\" xmlns:xlink=\"http://www.w3.org/1999/xlink\">\n <defs>\n  <style type=\"text/css\">\n*{stroke-linecap:butt;stroke-linejoin:round;}\n  </style>\n </defs>\n <g id=\"figure_1\">\n  <g id=\"patch_1\">\n   <path d=\"M 0 248.518125 \nL 251.565 248.518125 \nL 251.565 0 \nL 0 0 \nz\n\" style=\"fill:none;\"/>\n  </g>\n  <g id=\"axes_1\">\n   <g id=\"patch_2\">\n    <path d=\"M 26.925 224.64 \nL 244.365 224.64 \nL 244.365 7.2 \nL 26.925 7.2 \nz\n\" style=\"fill:#ffffff;\"/>\n   </g>\n   <g clip-path=\"url(#p8058037c09)\">\n    <image height=\"218\" id=\"imagee450aadcb2\" transform=\"scale(1 -1)translate(0 -218)\" width=\"218\" x=\"26.925\" xlink:href=\"data:image/png;base64,\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\" y=\"-6.64\"/>\n   </g>\n   <g id=\"matplotlib.axis_1\">\n    <g id=\"xtick_1\">\n     <g id=\"line2d_1\">\n      <defs>\n       <path d=\"M 0 0 \nL 0 3.5 \n\" id=\"m803a0c124c\" style=\"stroke:#000000;stroke-width:0.8;\"/>\n      </defs>\n      <g>\n       <use style=\"stroke:#000000;stroke-width:0.8;\" x=\"30.807857\" xlink:href=\"#m803a0c124c\" y=\"224.64\"/>\n      </g>\n     </g>\n     <g id=\"text_1\">\n      <!-- 0 -->\n      <defs>\n       <path d=\"M 31.78125 66.40625 \nQ 24.171875 66.40625 20.328125 58.90625 \nQ 16.5 51.421875 16.5 36.375 \nQ 16.5 21.390625 20.328125 13.890625 \nQ 24.171875 6.390625 31.78125 6.390625 \nQ 39.453125 6.390625 43.28125 13.890625 \nQ 47.125 21.390625 47.125 36.375 \nQ 47.125 51.421875 43.28125 58.90625 \nQ 39.453125 66.40625 31.78125 66.40625 \nz\nM 31.78125 74.21875 \nQ 44.046875 74.21875 50.515625 64.515625 \nQ 56.984375 54.828125 56.984375 36.375 \nQ 56.984375 17.96875 50.515625 8.265625 \nQ 44.046875 -1.421875 31.78125 -1.421875 \nQ 19.53125 -1.421875 13.0625 8.265625 \nQ 6.59375 17.96875 6.59375 36.375 \nQ 6.59375 54.828125 13.0625 64.515625 \nQ 19.53125 74.21875 31.78125 74.21875 \nz\n\" id=\"DejaVuSans-48\"/>\n      </defs>\n      <g transform=\"translate(27.626607 239.238437)scale(0.1 -0.1)\">\n       <use xlink:href=\"#DejaVuSans-48\"/>\n      </g>\n     </g>\n    </g>\n    <g id=\"xtick_2\">\n     <g id=\"line2d_2\">\n      <g>\n       <use style=\"stroke:#000000;stroke-width:0.8;\" x=\"69.636429\" xlink:href=\"#m803a0c124c\" y=\"224.64\"/>\n      </g>\n     </g>\n     <g id=\"text_2\">\n      <!-- 5 -->\n      <defs>\n       <path d=\"M 10.796875 72.90625 \nL 49.515625 72.90625 \nL 49.515625 64.59375 \nL 19.828125 64.59375 \nL 19.828125 46.734375 \nQ 21.96875 47.46875 24.109375 47.828125 \nQ 26.265625 48.1875 28.421875 48.1875 \nQ 40.625 48.1875 47.75 41.5 \nQ 54.890625 34.8125 54.890625 23.390625 \nQ 54.890625 11.625 47.5625 5.09375 \nQ 40.234375 -1.421875 26.90625 -1.421875 \nQ 22.3125 -1.421875 17.546875 -0.640625 \nQ 12.796875 0.140625 7.71875 1.703125 \nL 7.71875 11.625 \nQ 12.109375 9.234375 16.796875 8.0625 \nQ 21.484375 6.890625 26.703125 6.890625 \nQ 35.15625 6.890625 40.078125 11.328125 \nQ 45.015625 15.765625 45.015625 23.390625 \nQ 45.015625 31 40.078125 35.4375 \nQ 35.15625 39.890625 26.703125 39.890625 \nQ 22.75 39.890625 18.8125 39.015625 \nQ 14.890625 38.140625 10.796875 36.28125 \nz\n\" id=\"DejaVuSans-53\"/>\n      </defs>\n      <g transform=\"translate(66.455179 239.238437)scale(0.1 -0.1)\">\n       <use xlink:href=\"#DejaVuSans-53\"/>\n      </g>\n     </g>\n    </g>\n    <g id=\"xtick_3\">\n     <g id=\"line2d_3\">\n      <g>\n       <use style=\"stroke:#000000;stroke-width:0.8;\" x=\"108.465\" xlink:href=\"#m803a0c124c\" y=\"224.64\"/>\n      </g>\n     </g>\n     <g id=\"text_3\">\n      <!-- 10 -->\n      <defs>\n       <path d=\"M 12.40625 8.296875 \nL 28.515625 8.296875 \nL 28.515625 63.921875 \nL 10.984375 60.40625 \nL 10.984375 69.390625 \nL 28.421875 72.90625 \nL 38.28125 72.90625 \nL 38.28125 8.296875 \nL 54.390625 8.296875 \nL 54.390625 0 \nL 12.40625 0 \nz\n\" id=\"DejaVuSans-49\"/>\n      </defs>\n      <g transform=\"translate(102.1025 239.238437)scale(0.1 -0.1)\">\n       <use xlink:href=\"#DejaVuSans-49\"/>\n       <use x=\"63.623047\" xlink:href=\"#DejaVuSans-48\"/>\n      </g>\n     </g>\n    </g>\n    <g id=\"xtick_4\">\n     <g id=\"line2d_4\">\n      <g>\n       <use style=\"stroke:#000000;stroke-width:0.8;\" x=\"147.293571\" xlink:href=\"#m803a0c124c\" y=\"224.64\"/>\n      </g>\n     </g>\n     <g id=\"text_4\">\n      <!-- 15 -->\n      <g transform=\"translate(140.931071 239.238437)scale(0.1 -0.1)\">\n       <use xlink:href=\"#DejaVuSans-49\"/>\n       <use x=\"63.623047\" xlink:href=\"#DejaVuSans-53\"/>\n      </g>\n     </g>\n    </g>\n    <g id=\"xtick_5\">\n     <g id=\"line2d_5\">\n      <g>\n       <use style=\"stroke:#000000;stroke-width:0.8;\" x=\"186.122143\" xlink:href=\"#m803a0c124c\" y=\"224.64\"/>\n      </g>\n     </g>\n     <g id=\"text_5\">\n      <!-- 20 -->\n      <defs>\n       <path d=\"M 19.1875 8.296875 \nL 53.609375 8.296875 \nL 53.609375 0 \nL 7.328125 0 \nL 7.328125 8.296875 \nQ 12.9375 14.109375 22.625 23.890625 \nQ 32.328125 33.6875 34.8125 36.53125 \nQ 39.546875 41.84375 41.421875 45.53125 \nQ 43.3125 49.21875 43.3125 52.78125 \nQ 43.3125 58.59375 39.234375 62.25 \nQ 35.15625 65.921875 28.609375 65.921875 \nQ 23.96875 65.921875 18.8125 64.3125 \nQ 13.671875 62.703125 7.8125 59.421875 \nL 7.8125 69.390625 \nQ 13.765625 71.78125 18.9375 73 \nQ 24.125 74.21875 28.421875 74.21875 \nQ 39.75 74.21875 46.484375 68.546875 \nQ 53.21875 62.890625 53.21875 53.421875 \nQ 53.21875 48.921875 51.53125 44.890625 \nQ 49.859375 40.875 45.40625 35.40625 \nQ 44.1875 33.984375 37.640625 27.21875 \nQ 31.109375 20.453125 19.1875 8.296875 \nz\n\" id=\"DejaVuSans-50\"/>\n      </defs>\n      <g transform=\"translate(179.759643 239.238437)scale(0.1 -0.1)\">\n       <use xlink:href=\"#DejaVuSans-50\"/>\n       <use x=\"63.623047\" xlink:href=\"#DejaVuSans-48\"/>\n      </g>\n     </g>\n    </g>\n    <g id=\"xtick_6\">\n     <g id=\"line2d_6\">\n      <g>\n       <use style=\"stroke:#000000;stroke-width:0.8;\" x=\"224.950714\" xlink:href=\"#m803a0c124c\" y=\"224.64\"/>\n      </g>\n     </g>\n     <g id=\"text_6\">\n      <!-- 25 -->\n      <g transform=\"translate(218.588214 239.238437)scale(0.1 -0.1)\">\n       <use xlink:href=\"#DejaVuSans-50\"/>\n       <use x=\"63.623047\" xlink:href=\"#DejaVuSans-53\"/>\n      </g>\n     </g>\n    </g>\n   </g>\n   <g id=\"matplotlib.axis_2\">\n    <g id=\"ytick_1\">\n     <g id=\"line2d_7\">\n      <defs>\n       <path d=\"M 0 0 \nL -3.5 0 \n\" id=\"m1e9f177616\" style=\"stroke:#000000;stroke-width:0.8;\"/>\n      </defs>\n      <g>\n       <use style=\"stroke:#000000;stroke-width:0.8;\" x=\"26.925\" xlink:href=\"#m1e9f177616\" y=\"11.082857\"/>\n      </g>\n     </g>\n     <g id=\"text_7\">\n      <!-- 0 -->\n      <g transform=\"translate(13.5625 14.882076)scale(0.1 -0.1)\">\n       <use xlink:href=\"#DejaVuSans-48\"/>\n      </g>\n     </g>\n    </g>\n    <g id=\"ytick_2\">\n     <g id=\"line2d_8\">\n      <g>\n       <use style=\"stroke:#000000;stroke-width:0.8;\" x=\"26.925\" xlink:href=\"#m1e9f177616\" y=\"49.911429\"/>\n      </g>\n     </g>\n     <g id=\"text_8\">\n      <!-- 5 -->\n      <g transform=\"translate(13.5625 53.710647)scale(0.1 -0.1)\">\n       <use xlink:href=\"#DejaVuSans-53\"/>\n      </g>\n     </g>\n    </g>\n    <g id=\"ytick_3\">\n     <g id=\"line2d_9\">\n      <g>\n       <use style=\"stroke:#000000;stroke-width:0.8;\" x=\"26.925\" xlink:href=\"#m1e9f177616\" y=\"88.74\"/>\n      </g>\n     </g>\n     <g id=\"text_9\">\n      <!-- 10 -->\n      <g transform=\"translate(7.2 92.539219)scale(0.1 -0.1)\">\n       <use xlink:href=\"#DejaVuSans-49\"/>\n       <use x=\"63.623047\" xlink:href=\"#DejaVuSans-48\"/>\n      </g>\n     </g>\n    </g>\n    <g id=\"ytick_4\">\n     <g id=\"line2d_10\">\n      <g>\n       <use style=\"stroke:#000000;stroke-width:0.8;\" x=\"26.925\" xlink:href=\"#m1e9f177616\" y=\"127.568571\"/>\n      </g>\n     </g>\n     <g id=\"text_10\">\n      <!-- 15 -->\n      <g transform=\"translate(7.2 131.36779)scale(0.1 -0.1)\">\n       <use xlink:href=\"#DejaVuSans-49\"/>\n       <use x=\"63.623047\" xlink:href=\"#DejaVuSans-53\"/>\n      </g>\n     </g>\n    </g>\n    <g id=\"ytick_5\">\n     <g id=\"line2d_11\">\n      <g>\n       <use style=\"stroke:#000000;stroke-width:0.8;\" x=\"26.925\" xlink:href=\"#m1e9f177616\" y=\"166.397143\"/>\n      </g>\n     </g>\n     <g id=\"text_11\">\n      <!-- 20 -->\n      <g transform=\"translate(7.2 170.196362)scale(0.1 -0.1)\">\n       <use xlink:href=\"#DejaVuSans-50\"/>\n       <use x=\"63.623047\" xlink:href=\"#DejaVuSans-48\"/>\n      </g>\n     </g>\n    </g>\n    <g id=\"ytick_6\">\n     <g id=\"line2d_12\">\n      <g>\n       <use style=\"stroke:#000000;stroke-width:0.8;\" x=\"26.925\" xlink:href=\"#m1e9f177616\" y=\"205.225714\"/>\n      </g>\n     </g>\n     <g id=\"text_12\">\n      <!-- 25 -->\n      <g transform=\"translate(7.2 209.024933)scale(0.1 -0.1)\">\n       <use xlink:href=\"#DejaVuSans-50\"/>\n       <use x=\"63.623047\" xlink:href=\"#DejaVuSans-53\"/>\n      </g>\n     </g>\n    </g>\n   </g>\n   <g id=\"patch_3\">\n    <path d=\"M 26.925 224.64 \nL 26.925 7.2 \n\" style=\"fill:none;stroke:#000000;stroke-linecap:square;stroke-linejoin:miter;stroke-width:0.8;\"/>\n   </g>\n   <g id=\"patch_4\">\n    <path d=\"M 244.365 224.64 \nL 244.365 7.2 \n\" style=\"fill:none;stroke:#000000;stroke-linecap:square;stroke-linejoin:miter;stroke-width:0.8;\"/>\n   </g>\n   <g id=\"patch_5\">\n    <path d=\"M 26.925 224.64 \nL 244.365 224.64 \n\" style=\"fill:none;stroke:#000000;stroke-linecap:square;stroke-linejoin:miter;stroke-width:0.8;\"/>\n   </g>\n   <g id=\"patch_6\">\n    <path d=\"M 26.925 7.2 \nL 244.365 7.2 \n\" style=\"fill:none;stroke:#000000;stroke-linecap:square;stroke-linejoin:miter;stroke-width:0.8;\"/>\n   </g>\n  </g>\n </g>\n <defs>\n  <clipPath id=\"p8058037c09\">\n   <rect height=\"217.44\" width=\"217.44\" x=\"26.925\" y=\"7.2\"/>\n  </clipPath>\n </defs>\n</svg>\n"
          },
          "metadata": {
            "needs_background": "light"
          }
        }
      ]
    },
    {
      "cell_type": "code",
      "source": [
        "figure = plt.figure(figsize=(8, 8))\n",
        "cols, rows = 3, 3\n",
        "for i in range(1, cols * rows + 1):\n",
        "    sample_idx = torch.randint(len(train), size=(1,)).item()\n",
        "    img, label = train[sample_idx]\n",
        "    figure.add_subplot(rows, cols, i)\n",
        "    plt.title(labels_map[label])\n",
        "    im = img.permute(1, 2, 0)\n",
        "    plt.axis(\"off\")\n",
        "    plt.imshow(im.squeeze(), cmap=\"gray\")\n",
        "plt.show()"
      ],
      "metadata": {
        "colab": {
          "base_uri": "https://localhost:8080/",
          "height": 641
        },
        "id": "YMhmxEKgdJPe",
        "outputId": "332b5972-cd4b-40f7-f7f1-a1bcf14a48bf"
      },
      "execution_count": 113,
      "outputs": [
        {
          "output_type": "display_data",
          "data": {
            "text/plain": [
              "<Figure size 576x576 with 9 Axes>"
            ],
            "image/svg+xml": "<?xml version=\"1.0\" encoding=\"utf-8\" standalone=\"no\"?>\n<!DOCTYPE svg PUBLIC \"-//W3C//DTD SVG 1.1//EN\"\n  \"http://www.w3.org/Graphics/SVG/1.1/DTD/svg11.dtd\">\n<!-- Created with matplotlib (https://matplotlib.org/) -->\n<svg height=\"464.398125pt\" version=\"1.1\" viewBox=\"0 0 457.411765 464.398125\" width=\"457.411765pt\" xmlns=\"http://www.w3.org/2000/svg\" xmlns:xlink=\"http://www.w3.org/1999/xlink\">\n <defs>\n  <style type=\"text/css\">\n*{stroke-linecap:butt;stroke-linejoin:round;}\n  </style>\n </defs>\n <g id=\"figure_1\">\n  <g id=\"patch_1\">\n   <path d=\"M 0 464.398125 \nL 457.411765 464.398125 \nL 457.411765 0 \nL 0 0 \nz\n\" style=\"fill:none;\"/>\n  </g>\n  <g id=\"axes_1\">\n   <g clip-path=\"url(#pa448367acb)\">\n    <image height=\"128\" id=\"image1fd1d9b703\" transform=\"scale(1 -1)translate(0 -128)\" width=\"128\" x=\"7.2\" xlink:href=\"data:image/png;base64,\niVBORw0KGgoAAAANSUhEUgAAAIAAAACACAYAAADDPmHLAAAABHNCSVQICAgIfAhkiAAABVdJREFUeJztnUko9VEYxs/lmuck85wlKVLmYiMrLKyVLCQbGwuytpGFrRWyYG3BQqFsRCllKJIhSeZ5/rbfed+jexOfT8/z272nx3Vvfs7/9J7j8Bhj3g2BJeCn3wD5WSgAOBQAHAoADgUAhwKAQwHAoQDgUABwKAA4FAAcCgAOBQCHAoBDAcChAOBQAHC8P/0G0PF69Y8gOjraqqOiolQmMDDQqvf391Xm+fnZ5/fnDAAOBQCHAoBDAcDhIvCTBATYvzvx8fEqk5uba9VZWVkqc39/7/N7uRaKwcHBVh0XF6cyy8vLPl+bMwA4FAAcCgAO1BrA9SyNjIxUY0lJSVadnJysMre3t1ZdUlKiMvLrLi4uVCYsLEyN7e7uWvXGxobKyMbP0dGRyvgDZwBwKAA4FAAcCgDOr1gEhoSEqLGYmBirljtoxugFXmhoqMq8v+vrEeRrNzU1qUxLS4tVuxo6BwcHVj09Pa0yfX19akw2eVyLx6+CMwA4FAAcCgAOBQDHY77xkii5mMrOzlaZgoICNSaPQG1tbanM2dmZVQcFBfl8P3IHzxhjbm5ufI69vb2pTGZmplUPDAyoTF5enlXL7uFHY2NjY1a9vb2tMpOTk1b9+PioMv7AGQAcCgAOBQDHuQaQR45dDRS501VbW6sy8hmYlpamMvJZaowxd3d3Vt3T06My6+vrVu3aVbu+vrZq1/P2qyguLlZjbW1tVt3c3KwyrnWJHJOfwxhjFhYWrHp4eFhl5ufnrdq1TuAMAA4FAIcCgEMBwPG6FniJiYlW7Wqy5OTkWHV3d7fKREREWLVr500u+IzRR6xlQ8kYvTC6vLxUmX+J69jW4OCgVY+Pj6tMe3u7GistLbVq1+Kturraql3NoqWlJZ+vwxkAHAoADgUAx1teXq4GPR6PVcumizF6g8T1fHl4eLBq2WD6CHkCxtUIcW3Q/CSFhYVqrLKy0qpl88YYY1pbW9WYbKB1dXWpTEVFhVWnpKSozNXVlfvN/gVnAHAoADgUABwKAI53ZWVFDcrmzNPTk8rIkzyuRozc6XPtxrmOfB8fH1t1QkKCyvxvxMbGqrHe3l6r3tzcVJmdnR01Njc3Z9VyUWiMMeHh4VZdX1+vMmVlZVa9uLioMpwBwKEA4FAAcD59KjgjI8Oq8/PzVUY2QlzPMlcDSa4VOjs7VUY2mf418tTOzMyMyshmjWszzNUck5tvrpPL8vO7NsyGhoasur+/X2U4A4BDAcChAOBQAHA+fT/A3t6eVR8eHqqMXBi5dvDS09PVmLyk6acXfC7kZ3FdQCVv6355efHrteXndTXL5Emu8/NzlZG7uCcnJyrDGQAcCgAOBQCHAoDzZZdEvb6++jUmkbdifjT2v5GammrVrl09eUzMtQh0HbmXx+JdC7zZ2VmrHh0dVZmpqSk1JuEMAA4FAIcCgPMrLor8TuQReGP0f/poaGhQmZqaGquuq6tTGXl5pGs38PT0VI3JJs/ExITKyGf+6uqqyvjTeOIMAA4FAIcCgEMBwIFaBLoWfPJ4tTHGFBUVWbXrcie5G9rY2KgyHR0dVi1vDzfGmJGRETUmj+r78zd+n4UzADgUABwKAM63Xhb9W5GXYFZVVamMvBNobW1NZeRmmOvfu7qe7/5son0VnAHAoQDgUABwKAA4XASCwxkAHAoADgUAhwKAQwHAoQDgUABwKAA4FAAcCgAOBQCHAoBDAcChAOBQAHAoADgUABwKAA4FAIcCgEMBwKEA4FAAcCgAOBQAHAoADgUAhwKAQwHAoQDgUABwKAA4FAAcCgAOBQCHAoBDAcChAOBQAHAoADh/AIo3Y7wGkBAdAAAAAElFTkSuQmCC\" y=\"-22.224007\"/>\n   </g>\n   <g id=\"text_1\">\n    <!-- Sandal -->\n    <defs>\n     <path d=\"M 53.515625 70.515625 \nL 53.515625 60.890625 \nQ 47.90625 63.578125 42.921875 64.890625 \nQ 37.9375 66.21875 33.296875 66.21875 \nQ 25.25 66.21875 20.875 63.09375 \nQ 16.5 59.96875 16.5 54.203125 \nQ 16.5 49.359375 19.40625 46.890625 \nQ 22.3125 44.4375 30.421875 42.921875 \nL 36.375 41.703125 \nQ 47.40625 39.59375 52.65625 34.296875 \nQ 57.90625 29 57.90625 20.125 \nQ 57.90625 9.515625 50.796875 4.046875 \nQ 43.703125 -1.421875 29.984375 -1.421875 \nQ 24.8125 -1.421875 18.96875 -0.25 \nQ 13.140625 0.921875 6.890625 3.21875 \nL 6.890625 13.375 \nQ 12.890625 10.015625 18.65625 8.296875 \nQ 24.421875 6.59375 29.984375 6.59375 \nQ 38.421875 6.59375 43.015625 9.90625 \nQ 47.609375 13.234375 47.609375 19.390625 \nQ 47.609375 24.75 44.3125 27.78125 \nQ 41.015625 30.8125 33.5 32.328125 \nL 27.484375 33.5 \nQ 16.453125 35.6875 11.515625 40.375 \nQ 6.59375 45.0625 6.59375 53.421875 \nQ 6.59375 63.09375 13.40625 68.65625 \nQ 20.21875 74.21875 32.171875 74.21875 \nQ 37.3125 74.21875 42.625 73.28125 \nQ 47.953125 72.359375 53.515625 70.515625 \nz\n\" id=\"DejaVuSans-83\"/>\n     <path d=\"M 34.28125 27.484375 \nQ 23.390625 27.484375 19.1875 25 \nQ 14.984375 22.515625 14.984375 16.5 \nQ 14.984375 11.71875 18.140625 8.90625 \nQ 21.296875 6.109375 26.703125 6.109375 \nQ 34.1875 6.109375 38.703125 11.40625 \nQ 43.21875 16.703125 43.21875 25.484375 \nL 43.21875 27.484375 \nz\nM 52.203125 31.203125 \nL 52.203125 0 \nL 43.21875 0 \nL 43.21875 8.296875 \nQ 40.140625 3.328125 35.546875 0.953125 \nQ 30.953125 -1.421875 24.3125 -1.421875 \nQ 15.921875 -1.421875 10.953125 3.296875 \nQ 6 8.015625 6 15.921875 \nQ 6 25.140625 12.171875 29.828125 \nQ 18.359375 34.515625 30.609375 34.515625 \nL 43.21875 34.515625 \nL 43.21875 35.40625 \nQ 43.21875 41.609375 39.140625 45 \nQ 35.0625 48.390625 27.6875 48.390625 \nQ 23 48.390625 18.546875 47.265625 \nQ 14.109375 46.140625 10.015625 43.890625 \nL 10.015625 52.203125 \nQ 14.9375 54.109375 19.578125 55.046875 \nQ 24.21875 56 28.609375 56 \nQ 40.484375 56 46.34375 49.84375 \nQ 52.203125 43.703125 52.203125 31.203125 \nz\n\" id=\"DejaVuSans-97\"/>\n     <path d=\"M 54.890625 33.015625 \nL 54.890625 0 \nL 45.90625 0 \nL 45.90625 32.71875 \nQ 45.90625 40.484375 42.875 44.328125 \nQ 39.84375 48.1875 33.796875 48.1875 \nQ 26.515625 48.1875 22.3125 43.546875 \nQ 18.109375 38.921875 18.109375 30.90625 \nL 18.109375 0 \nL 9.078125 0 \nL 9.078125 54.6875 \nL 18.109375 54.6875 \nL 18.109375 46.1875 \nQ 21.34375 51.125 25.703125 53.5625 \nQ 30.078125 56 35.796875 56 \nQ 45.21875 56 50.046875 50.171875 \nQ 54.890625 44.34375 54.890625 33.015625 \nz\n\" id=\"DejaVuSans-110\"/>\n     <path d=\"M 45.40625 46.390625 \nL 45.40625 75.984375 \nL 54.390625 75.984375 \nL 54.390625 0 \nL 45.40625 0 \nL 45.40625 8.203125 \nQ 42.578125 3.328125 38.25 0.953125 \nQ 33.9375 -1.421875 27.875 -1.421875 \nQ 17.96875 -1.421875 11.734375 6.484375 \nQ 5.515625 14.40625 5.515625 27.296875 \nQ 5.515625 40.1875 11.734375 48.09375 \nQ 17.96875 56 27.875 56 \nQ 33.9375 56 38.25 53.625 \nQ 42.578125 51.265625 45.40625 46.390625 \nz\nM 14.796875 27.296875 \nQ 14.796875 17.390625 18.875 11.75 \nQ 22.953125 6.109375 30.078125 6.109375 \nQ 37.203125 6.109375 41.296875 11.75 \nQ 45.40625 17.390625 45.40625 27.296875 \nQ 45.40625 37.203125 41.296875 42.84375 \nQ 37.203125 48.484375 30.078125 48.484375 \nQ 22.953125 48.484375 18.875 42.84375 \nQ 14.796875 37.203125 14.796875 27.296875 \nz\n\" id=\"DejaVuSans-100\"/>\n     <path d=\"M 9.421875 75.984375 \nL 18.40625 75.984375 \nL 18.40625 0 \nL 9.421875 0 \nz\n\" id=\"DejaVuSans-108\"/>\n    </defs>\n    <g transform=\"translate(50.711691 16.318125)scale(0.12 -0.12)\">\n     <use xlink:href=\"#DejaVuSans-83\"/>\n     <use x=\"63.476562\" xlink:href=\"#DejaVuSans-97\"/>\n     <use x=\"124.755859\" xlink:href=\"#DejaVuSans-110\"/>\n     <use x=\"188.134766\" xlink:href=\"#DejaVuSans-100\"/>\n     <use x=\"251.611328\" xlink:href=\"#DejaVuSans-97\"/>\n     <use x=\"312.890625\" xlink:href=\"#DejaVuSans-108\"/>\n    </g>\n   </g>\n  </g>\n  <g id=\"axes_2\">\n   <g clip-path=\"url(#p9343f17381)\">\n    <image height=\"128\" id=\"image827f741e34\" transform=\"scale(1 -1)translate(0 -128)\" width=\"128\" x=\"164.752941\" xlink:href=\"data:image/png;base64,\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\" y=\"-22.224007\"/>\n   </g>\n   <g id=\"text_2\">\n    <!-- Ankle Boot -->\n    <defs>\n     <path d=\"M 34.1875 63.1875 \nL 20.796875 26.90625 \nL 47.609375 26.90625 \nz\nM 28.609375 72.90625 \nL 39.796875 72.90625 \nL 67.578125 0 \nL 57.328125 0 \nL 50.6875 18.703125 \nL 17.828125 18.703125 \nL 11.1875 0 \nL 0.78125 0 \nz\n\" id=\"DejaVuSans-65\"/>\n     <path d=\"M 9.078125 75.984375 \nL 18.109375 75.984375 \nL 18.109375 31.109375 \nL 44.921875 54.6875 \nL 56.390625 54.6875 \nL 27.390625 29.109375 \nL 57.625 0 \nL 45.90625 0 \nL 18.109375 26.703125 \nL 18.109375 0 \nL 9.078125 0 \nz\n\" id=\"DejaVuSans-107\"/>\n     <path d=\"M 56.203125 29.59375 \nL 56.203125 25.203125 \nL 14.890625 25.203125 \nQ 15.484375 15.921875 20.484375 11.0625 \nQ 25.484375 6.203125 34.421875 6.203125 \nQ 39.59375 6.203125 44.453125 7.46875 \nQ 49.3125 8.734375 54.109375 11.28125 \nL 54.109375 2.78125 \nQ 49.265625 0.734375 44.1875 -0.34375 \nQ 39.109375 -1.421875 33.890625 -1.421875 \nQ 20.796875 -1.421875 13.15625 6.1875 \nQ 5.515625 13.8125 5.515625 26.8125 \nQ 5.515625 40.234375 12.765625 48.109375 \nQ 20.015625 56 32.328125 56 \nQ 43.359375 56 49.78125 48.890625 \nQ 56.203125 41.796875 56.203125 29.59375 \nz\nM 47.21875 32.234375 \nQ 47.125 39.59375 43.09375 43.984375 \nQ 39.0625 48.390625 32.421875 48.390625 \nQ 24.90625 48.390625 20.390625 44.140625 \nQ 15.875 39.890625 15.1875 32.171875 \nz\n\" id=\"DejaVuSans-101\"/>\n     <path id=\"DejaVuSans-32\"/>\n     <path d=\"M 19.671875 34.8125 \nL 19.671875 8.109375 \nL 35.5 8.109375 \nQ 43.453125 8.109375 47.28125 11.40625 \nQ 51.125 14.703125 51.125 21.484375 \nQ 51.125 28.328125 47.28125 31.5625 \nQ 43.453125 34.8125 35.5 34.8125 \nz\nM 19.671875 64.796875 \nL 19.671875 42.828125 \nL 34.28125 42.828125 \nQ 41.5 42.828125 45.03125 45.53125 \nQ 48.578125 48.25 48.578125 53.8125 \nQ 48.578125 59.328125 45.03125 62.0625 \nQ 41.5 64.796875 34.28125 64.796875 \nz\nM 9.8125 72.90625 \nL 35.015625 72.90625 \nQ 46.296875 72.90625 52.390625 68.21875 \nQ 58.5 63.53125 58.5 54.890625 \nQ 58.5 48.1875 55.375 44.234375 \nQ 52.25 40.28125 46.1875 39.3125 \nQ 53.46875 37.75 57.5 32.78125 \nQ 61.53125 27.828125 61.53125 20.40625 \nQ 61.53125 10.640625 54.890625 5.3125 \nQ 48.25 0 35.984375 0 \nL 9.8125 0 \nz\n\" id=\"DejaVuSans-66\"/>\n     <path d=\"M 30.609375 48.390625 \nQ 23.390625 48.390625 19.1875 42.75 \nQ 14.984375 37.109375 14.984375 27.296875 \nQ 14.984375 17.484375 19.15625 11.84375 \nQ 23.34375 6.203125 30.609375 6.203125 \nQ 37.796875 6.203125 41.984375 11.859375 \nQ 46.1875 17.53125 46.1875 27.296875 \nQ 46.1875 37.015625 41.984375 42.703125 \nQ 37.796875 48.390625 30.609375 48.390625 \nz\nM 30.609375 56 \nQ 42.328125 56 49.015625 48.375 \nQ 55.71875 40.765625 55.71875 27.296875 \nQ 55.71875 13.875 49.015625 6.21875 \nQ 42.328125 -1.421875 30.609375 -1.421875 \nQ 18.84375 -1.421875 12.171875 6.21875 \nQ 5.515625 13.875 5.515625 27.296875 \nQ 5.515625 40.765625 12.171875 48.375 \nQ 18.84375 56 30.609375 56 \nz\n\" id=\"DejaVuSans-111\"/>\n     <path d=\"M 18.3125 70.21875 \nL 18.3125 54.6875 \nL 36.8125 54.6875 \nL 36.8125 47.703125 \nL 18.3125 47.703125 \nL 18.3125 18.015625 \nQ 18.3125 11.328125 20.140625 9.421875 \nQ 21.96875 7.515625 27.59375 7.515625 \nL 36.8125 7.515625 \nL 36.8125 0 \nL 27.59375 0 \nQ 17.1875 0 13.234375 3.875 \nQ 9.28125 7.765625 9.28125 18.015625 \nL 9.28125 47.703125 \nL 2.6875 47.703125 \nL 2.6875 54.6875 \nL 9.28125 54.6875 \nL 9.28125 70.21875 \nz\n\" id=\"DejaVuSans-116\"/>\n    </defs>\n    <g transform=\"translate(196.247757 16.318125)scale(0.12 -0.12)\">\n     <use xlink:href=\"#DejaVuSans-65\"/>\n     <use x=\"68.408203\" xlink:href=\"#DejaVuSans-110\"/>\n     <use x=\"131.787109\" xlink:href=\"#DejaVuSans-107\"/>\n     <use x=\"189.697266\" xlink:href=\"#DejaVuSans-108\"/>\n     <use x=\"217.480469\" xlink:href=\"#DejaVuSans-101\"/>\n     <use x=\"279.003906\" xlink:href=\"#DejaVuSans-32\"/>\n     <use x=\"310.791016\" xlink:href=\"#DejaVuSans-66\"/>\n     <use x=\"379.394531\" xlink:href=\"#DejaVuSans-111\"/>\n     <use x=\"440.576172\" xlink:href=\"#DejaVuSans-111\"/>\n     <use x=\"501.757812\" xlink:href=\"#DejaVuSans-116\"/>\n    </g>\n   </g>\n  </g>\n  <g id=\"axes_3\">\n   <g clip-path=\"url(#p6c69ca782b)\">\n    <image height=\"128\" id=\"imaged18cd93b1e\" transform=\"scale(1 -1)translate(0 -128)\" width=\"128\" x=\"322.305882\" xlink:href=\"data:image/png;base64,\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\" y=\"-22.224007\"/>\n   </g>\n   <g id=\"text_3\">\n    <!-- Shirt -->\n    <defs>\n     <path d=\"M 54.890625 33.015625 \nL 54.890625 0 \nL 45.90625 0 \nL 45.90625 32.71875 \nQ 45.90625 40.484375 42.875 44.328125 \nQ 39.84375 48.1875 33.796875 48.1875 \nQ 26.515625 48.1875 22.3125 43.546875 \nQ 18.109375 38.921875 18.109375 30.90625 \nL 18.109375 0 \nL 9.078125 0 \nL 9.078125 75.984375 \nL 18.109375 75.984375 \nL 18.109375 46.1875 \nQ 21.34375 51.125 25.703125 53.5625 \nQ 30.078125 56 35.796875 56 \nQ 45.21875 56 50.046875 50.171875 \nQ 54.890625 44.34375 54.890625 33.015625 \nz\n\" id=\"DejaVuSans-104\"/>\n     <path d=\"M 9.421875 54.6875 \nL 18.40625 54.6875 \nL 18.40625 0 \nL 9.421875 0 \nz\nM 9.421875 75.984375 \nL 18.40625 75.984375 \nL 18.40625 64.59375 \nL 9.421875 64.59375 \nz\n\" id=\"DejaVuSans-105\"/>\n     <path d=\"M 41.109375 46.296875 \nQ 39.59375 47.171875 37.8125 47.578125 \nQ 36.03125 48 33.890625 48 \nQ 26.265625 48 22.1875 43.046875 \nQ 18.109375 38.09375 18.109375 28.8125 \nL 18.109375 0 \nL 9.078125 0 \nL 9.078125 54.6875 \nL 18.109375 54.6875 \nL 18.109375 46.1875 \nQ 20.953125 51.171875 25.484375 53.578125 \nQ 30.03125 56 36.53125 56 \nQ 37.453125 56 38.578125 55.875 \nQ 39.703125 55.765625 41.0625 55.515625 \nz\n\" id=\"DejaVuSans-114\"/>\n    </defs>\n    <g transform=\"translate(372.161636 16.318125)scale(0.12 -0.12)\">\n     <use xlink:href=\"#DejaVuSans-83\"/>\n     <use x=\"63.476562\" xlink:href=\"#DejaVuSans-104\"/>\n     <use x=\"126.855469\" xlink:href=\"#DejaVuSans-105\"/>\n     <use x=\"154.638672\" xlink:href=\"#DejaVuSans-114\"/>\n     <use x=\"195.751953\" xlink:href=\"#DejaVuSans-116\"/>\n    </g>\n   </g>\n  </g>\n  <g id=\"axes_4\">\n   <g clip-path=\"url(#p9c53ccf928)\">\n    <image height=\"128\" id=\"image9778927657\" transform=\"scale(1 -1)translate(0 -128)\" width=\"128\" x=\"7.2\" xlink:href=\"data:image/png;base64,\niVBORw0KGgoAAAANSUhEUgAAAIAAAACACAYAAADDPmHLAAAABHNCSVQICAgIfAhkiAAABQpJREFUeJztncsrhV0UxtfhuN+SSySXkEIZKWVAIUYGypxM/BmG/gdDmRqZmDFQBm5Rcs8ll9xyyzWXb7zXWnESzvd9z/ObPbvlvOfVr221935fERH5EEU0GtVD5Jd4fX2N6/UT4np1EncoADgUABwKAA67vTgT74abMwA4FAAcCgAOBQCHAoBDAcChAOBQAHAoADgUABwKAA4FAIcCgEMBwKEA4FAAcCgAOBQAHAoADgUAhwKAQwHAoQDgUABwKAA4FACcaLwfTSLxhTMAOBQAHAoADgUAx+0As7KyglxVVWVq8vPzg5ybm2tq3t/fg/zy8mJq0tPTzZiuu729NTU3NzdBvr6+NjX65/TPiIg8Pz+bMSQ4A4BDAcChAOBEhoeHzYsiBwcHg5yQYD3Z2toK8tnZmam5uLj4NIuIJCYmmrGUlJQgZ2RkmJrU1NQgRyIRU6N5eHgwY1dXV2ZM39ve3p6pOT09DfLj4+OX1/fQ9ypieyfvs/WYV6P7G6+GMwA4FAAcCgAOBQAnkpWVZZrAkpKSIHuNim7CvJr6+vogV1dXm5rJyUkzdn5+/um1RETS0tKCrBevRETy8vKCrBevRPxFrpqamiBnZmaaGq+h1BwdHX2aRUQqKirMmL5fbwHr/v4+yPp35jEzM2PGOAOAQwHAoQDgRL3FgZ2dnSB/fJg2ISbe3t6C3NfXZ2pGRka+vP5vkpycbMZ0r9LZ2WlqGhoaguz1IElJSUH2Tl95m1HZ2dlBLi8vNzXFxcVBvry8NDVNTU1Bnp+fNzWcAcChAOBQAHAoADi/eiZ8e3v7yxpvkeMv8U4pra2tBfn4+NjU6EUmbyGst7c3yHoHUcRvgvUik/ev5fSOodeoPz09ffq5IpwB4KEA4FAAcKKxnKSJBe9z9OLE9PS0qfEWObyTQz9BrPeq/556J469MU1OTk6QW1tbTc3o6KgZ++7pou/AGQAcCgAOBQCHAoAT/e5OXyzopmtiYsLUNDc3m7G7u7sgb25u/sj38Y636x3LWPGOs2tKS0uDXFdXZ2r0gpL3nbzFMr045N2HHvOaYM4A4FAAcCgAOBQAnEg0Gv29LlChj3KLiLS0tJgxfdzKezZvdXU1yPv7+6amoKAgyO3t7aZGH78SscetxsbGTI0+yqUbPhGRgYGBIHvNnLfqqY+pzc3NmRq9Q3lwcGBqDg8Pg8wmkBgoADgUAJw/fUukt8s1Oztrxmpra4M8PDxsapaXl4PsPfbU398f5LKyMlOzu7trxvQij/ceo/X19SAvLi6amvHx8SB7R7e7urrMWEdHR5ArKytNzdLSUpC9nVbdA3iLV5wBwKEA4FAAcCgAOH+6EBQr+jn+7u5uU9PW1hZkb0FpY2MjyN4LoQoLC81YUVFRkL2dNv1eg6GhIVOjdx+9JlgvVomINDY2Btk7ur6yshLkk5MTUxMLnAHAoQDgUABw/pU9wE+hF3C8zaCenh4zNjU1FeSFhQVTozeD/vKdBj8JZwBwKAA4FAAcCgDO/7oJjAXvuX7Nf+G/isTy3KP3CABnAHAoADgUABz4HgAdzgDgUABwKAA4FACcPz0WTuKL98JJzgDgUABwKAA4FAAcCgAOBQCHAoBDAcChAOBQAHAoADgUABwKAA4FAIcCgEMBwKEA4FAAcCgAOBQAHAoADgUAhwKAQwHAoQDgUABwot7jQn/6BaJ8Oi2ecAYAhwKAQwHAoQDg/AMakGC4JrHD3wAAAABJRU5ErkJggg==\" y=\"-175.711066\"/>\n   </g>\n   <g id=\"text_4\">\n    <!-- Sandal -->\n    <g transform=\"translate(50.711691 169.805184)scale(0.12 -0.12)\">\n     <use xlink:href=\"#DejaVuSans-83\"/>\n     <use x=\"63.476562\" xlink:href=\"#DejaVuSans-97\"/>\n     <use x=\"124.755859\" xlink:href=\"#DejaVuSans-110\"/>\n     <use x=\"188.134766\" xlink:href=\"#DejaVuSans-100\"/>\n     <use x=\"251.611328\" xlink:href=\"#DejaVuSans-97\"/>\n     <use x=\"312.890625\" xlink:href=\"#DejaVuSans-108\"/>\n    </g>\n   </g>\n  </g>\n  <g id=\"axes_5\">\n   <g clip-path=\"url(#pddda24a605)\">\n    <image height=\"128\" id=\"imagefab2140043\" transform=\"scale(1 -1)translate(0 -128)\" width=\"128\" x=\"164.752941\" xlink:href=\"data:image/png;base64,\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\" y=\"-175.711066\"/>\n   </g>\n   <g id=\"text_5\">\n    <!-- Dress -->\n    <defs>\n     <path d=\"M 19.671875 64.796875 \nL 19.671875 8.109375 \nL 31.59375 8.109375 \nQ 46.6875 8.109375 53.6875 14.9375 \nQ 60.6875 21.78125 60.6875 36.53125 \nQ 60.6875 51.171875 53.6875 57.984375 \nQ 46.6875 64.796875 31.59375 64.796875 \nz\nM 9.8125 72.90625 \nL 30.078125 72.90625 \nQ 51.265625 72.90625 61.171875 64.09375 \nQ 71.09375 55.28125 71.09375 36.53125 \nQ 71.09375 17.671875 61.125 8.828125 \nQ 51.171875 0 30.078125 0 \nL 9.8125 0 \nz\n\" id=\"DejaVuSans-68\"/>\n     <path d=\"M 44.28125 53.078125 \nL 44.28125 44.578125 \nQ 40.484375 46.53125 36.375 47.5 \nQ 32.28125 48.484375 27.875 48.484375 \nQ 21.1875 48.484375 17.84375 46.4375 \nQ 14.5 44.390625 14.5 40.28125 \nQ 14.5 37.15625 16.890625 35.375 \nQ 19.28125 33.59375 26.515625 31.984375 \nL 29.59375 31.296875 \nQ 39.15625 29.25 43.1875 25.515625 \nQ 47.21875 21.78125 47.21875 15.09375 \nQ 47.21875 7.46875 41.1875 3.015625 \nQ 35.15625 -1.421875 24.609375 -1.421875 \nQ 20.21875 -1.421875 15.453125 -0.5625 \nQ 10.6875 0.296875 5.421875 2 \nL 5.421875 11.28125 \nQ 10.40625 8.6875 15.234375 7.390625 \nQ 20.0625 6.109375 24.8125 6.109375 \nQ 31.15625 6.109375 34.5625 8.28125 \nQ 37.984375 10.453125 37.984375 14.40625 \nQ 37.984375 18.0625 35.515625 20.015625 \nQ 33.0625 21.96875 24.703125 23.78125 \nL 21.578125 24.515625 \nQ 13.234375 26.265625 9.515625 29.90625 \nQ 5.8125 33.546875 5.8125 39.890625 \nQ 5.8125 47.609375 11.28125 51.796875 \nQ 16.75 56 26.8125 56 \nQ 31.78125 56 36.171875 55.265625 \nQ 40.578125 54.546875 44.28125 53.078125 \nz\n\" id=\"DejaVuSans-115\"/>\n    </defs>\n    <g transform=\"translate(211.811195 169.805184)scale(0.12 -0.12)\">\n     <use xlink:href=\"#DejaVuSans-68\"/>\n     <use x=\"77.001953\" xlink:href=\"#DejaVuSans-114\"/>\n     <use x=\"115.865234\" xlink:href=\"#DejaVuSans-101\"/>\n     <use x=\"177.388672\" xlink:href=\"#DejaVuSans-115\"/>\n     <use x=\"229.488281\" xlink:href=\"#DejaVuSans-115\"/>\n    </g>\n   </g>\n  </g>\n  <g id=\"axes_6\">\n   <g clip-path=\"url(#p1c7a684788)\">\n    <image height=\"128\" id=\"image66dea9e00b\" transform=\"scale(1 -1)translate(0 -128)\" width=\"128\" x=\"322.305882\" xlink:href=\"data:image/png;base64,\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\" y=\"-175.711066\"/>\n   </g>\n   <g id=\"text_6\">\n    <!-- Trouser -->\n    <defs>\n     <path d=\"M -0.296875 72.90625 \nL 61.375 72.90625 \nL 61.375 64.59375 \nL 35.5 64.59375 \nL 35.5 0 \nL 25.59375 0 \nL 25.59375 64.59375 \nL -0.296875 64.59375 \nz\n\" id=\"DejaVuSans-84\"/>\n     <path d=\"M 8.5 21.578125 \nL 8.5 54.6875 \nL 17.484375 54.6875 \nL 17.484375 21.921875 \nQ 17.484375 14.15625 20.5 10.265625 \nQ 23.53125 6.390625 29.59375 6.390625 \nQ 36.859375 6.390625 41.078125 11.03125 \nQ 45.3125 15.671875 45.3125 23.6875 \nL 45.3125 54.6875 \nL 54.296875 54.6875 \nL 54.296875 0 \nL 45.3125 0 \nL 45.3125 8.40625 \nQ 42.046875 3.421875 37.71875 1 \nQ 33.40625 -1.421875 27.6875 -1.421875 \nQ 18.265625 -1.421875 13.375 4.4375 \nQ 8.5 10.296875 8.5 21.578125 \nz\nM 31.109375 56 \nz\n\" id=\"DejaVuSans-117\"/>\n    </defs>\n    <g transform=\"translate(364.389761 169.805184)scale(0.12 -0.12)\">\n     <use xlink:href=\"#DejaVuSans-84\"/>\n     <use x=\"46.333984\" xlink:href=\"#DejaVuSans-114\"/>\n     <use x=\"85.197266\" xlink:href=\"#DejaVuSans-111\"/>\n     <use x=\"146.378906\" xlink:href=\"#DejaVuSans-117\"/>\n     <use x=\"209.757812\" xlink:href=\"#DejaVuSans-115\"/>\n     <use x=\"261.857422\" xlink:href=\"#DejaVuSans-101\"/>\n     <use x=\"323.380859\" xlink:href=\"#DejaVuSans-114\"/>\n    </g>\n   </g>\n  </g>\n  <g id=\"axes_7\">\n   <g clip-path=\"url(#p08481f0953)\">\n    <image height=\"128\" id=\"image6f1101e8f8\" transform=\"scale(1 -1)translate(0 -128)\" width=\"128\" x=\"7.2\" xlink:href=\"data:image/png;base64,\niVBORw0KGgoAAAANSUhEUgAAAIAAAACACAYAAADDPmHLAAAABHNCSVQICAgIfAhkiAAABn5JREFUeJztnctLlV0UxvexY3ktxDIwU8NIlKwgdSQOykkQKkU6EBw7tD9AHGRD/wFxJg0MJyIkOIpCUQlRU9EoMtHKyht572LDj73WovP2Yt9Jnuc3ezbrvGcfeNjvYu2194k45w5cCCKRiKdra2tVzMGB/+iFhQUVMz09rcb29vbCTImEICHeEyDxhQYAhwYAhwYAJ+JCJoE1NTWebm9vVzFra2ue3t/fVzEbGxtq7NWrV54eHh5WMYuLi54eHBxUMTIJJRquAODQAODQAOBEgwSdOHFCjV28eNHTp0+fVjFnz571dEpKSqBJlZeXe/r27dsqZmlpydP3799XMWNjY4G+DxmuAODQAODQAODQAOAESgIzMzPVmEzMjh8/rmLkrt729nagSckCzrlz51SM3EXc2tqK+dzExEQ1ZiWmsjgldz6dc+7kyZOeTk1NVTHv37+POad4wxUAHBoAHBoAnECbQdZ70tp8kcgCktXpY73f5eeSk5NVzNu3bz09NzenYj5//uxpucnknP3bbty44elPnz6pmHfv3nn6zJkzKiY/P9/T8/PzKubZs2dq7Pnz556enZ1VMYcFVwBwaABwaABwaABwAiWBjY2Naqyjo8PTMuFyzrn19XVPb25uqpgrV66osaSkpFhTUljdRrI49ePHDxVjFXkSEhJ+q4Py/ft3T//8+VPF7O7uqrGVlRVPj46Oqpje3l5PDw0NqRjZNWX9fq4A4NAA4NAA4Jg5QH19vafv3LmjPlhXV3coE7Dei0Fivn375umwHcAyT3FOb+ycOnUq1LODEGTeOzs7akwWhwYGBlRMV1eXp2dmZlQMVwBwaABwaABwaABwzCSwurra0w8fPlQfvHz58l+bVBisIodMHq2OoCDPOnbsWMxnW8mcjAl674HcDY1GdeOW/D6roCWTR6tYxBUAHBoAHBoAHBoAHDMJLCws9LRZQQqxQ2YlStaYrPJZLedW0hMG6/vls+V8nNO7eFa1To5ZO6ZWO7tsU7MS3LS0NE+fP39exaSnp3vaasvnCgAODQAODQCOeTRMnusPUuSwduxkAcXq2rGKHEGQc+ru7lYx8p6BvLy8mM9xTr/zrfe7PD5mvcvl0TB5p4Fzzi0vL6sxmV9Y85ZH06w5yrZ0q72eKwA4NAA4NAA4NAA4ZgYmk7fx8XEVc+3atZgPlwUVq6BjIXfDrARHnvPLyMhQMTKZev36tYq5cOGCGgtyweWXL188bSVz2dnZnraSMKuAk5OT4+kXL16oGHk20SryyALS5OSkiuEKAA4NAA4NAI6ZA8iz9uaRohCbQWE3cKx3p+xIst7B8py91dlj5SWyyGO1hctCjBUjW7Xle9s5fc+Bc8719/d72spT5MWc1u+QR8rk5pBzXAHgoQHAoQHAoQHAMTuCZEJhFRmshCqeTE1NqTFZrJE3nDtnJ0Zfv371tHW51MjIiKcfP36sYmRi+uHDBxUTb7gCgEMDgEMDgBO1jkvdunXL01bRJ8jRpMMiyBn6oqKimJ+z3sHWfURPnjzxtPWPaHJjRd4HZH3/vwhXAHBoAHBoAHBoAHCiViFE3pZt8X8mgUG+3zq+JWOs3zoxMaHGWlpaPP3mzZswUzwScAUAhwYAhwYAhwYAJ3rp0iU1WFlZ6Wnr3F/YG7TDYLWkyZZvaz7ydvKenh4V8+DBAzX28ePHP53ikYUrADg0ADg0ADjRpqYmNXj16tU4TOU/ZAHHvNtGvPOttuhHjx55urOzU8Ugve8tuAKAQwOAQwOAQwOAE3n58qXqWyooKPC0lSjJRC03N1fFyNZxa8fQapuS7VXW383Js3hPnz5VMffu3fP06uqqikGHKwA4NAA4NAA4kYaGBvUS7uvr83RxcbH64PXr1z199+5dFVNWVuZpa1PH6tKRd/JY3T7y3qLm5mYVMzY2psaID1cAcGgAcGgAcGgAcCKlpaUqCZTn3qyLEoMgE7yKigoVU1VVpcZu3rzp6ZKSEhXT1tbm6dbW1jBThIcrADg0ADg0ADiRSCSicoB4n2vPysr6rXZOX+hs/RsHiQ1XAHBoAHBoAHBoAHDMiyL/NaxjX9ZxNfLncAUAhwYAhwYAhwYA50gkgeTvwRUAHBoAHBoAHBoAHBoAHBoAHBoAHBoAHBoAHBoAHBoAHBoAHBoAHBoAHBoAHBoAHBoAHBoAHBoAHBoAHBoAHBoAHBoAHBoAHBoAHBoAnF+SRCOJu9eR2wAAAABJRU5ErkJggg==\" y=\"-329.198125\"/>\n   </g>\n   <g id=\"text_7\">\n    <!-- Ankle Boot -->\n    <g transform=\"translate(38.694816 323.292243)scale(0.12 -0.12)\">\n     <use xlink:href=\"#DejaVuSans-65\"/>\n     <use x=\"68.408203\" xlink:href=\"#DejaVuSans-110\"/>\n     <use x=\"131.787109\" xlink:href=\"#DejaVuSans-107\"/>\n     <use x=\"189.697266\" xlink:href=\"#DejaVuSans-108\"/>\n     <use x=\"217.480469\" xlink:href=\"#DejaVuSans-101\"/>\n     <use x=\"279.003906\" xlink:href=\"#DejaVuSans-32\"/>\n     <use x=\"310.791016\" xlink:href=\"#DejaVuSans-66\"/>\n     <use x=\"379.394531\" xlink:href=\"#DejaVuSans-111\"/>\n     <use x=\"440.576172\" xlink:href=\"#DejaVuSans-111\"/>\n     <use x=\"501.757812\" xlink:href=\"#DejaVuSans-116\"/>\n    </g>\n   </g>\n  </g>\n  <g id=\"axes_8\">\n   <g clip-path=\"url(#p7c71db71d8)\">\n    <image height=\"128\" id=\"image9786e963fd\" transform=\"scale(1 -1)translate(0 -128)\" width=\"128\" x=\"164.752941\" xlink:href=\"data:image/png;base64,\niVBORw0KGgoAAAANSUhEUgAAAIAAAACACAYAAADDPmHLAAAABHNCSVQICAgIfAhkiAAABnZJREFUeJztnctOVU0QhQtviKgJAzAaomiMMVxGPAAxOHVGeAAfwBlPoq/g1KHRB9CJE028JAxMIKDcBAURxds/7lUrns7+9xHMWt+sO3X6nJBF78qq6t49EfE7jCxHDvoHmIPFAhDHAhDHAhDHAhDHAhDHAhDHAhDnWDcX7+3tbWWd8+fPp7k7d+4U45GRkRRz9+7dYjw2NpZi7t279/9+3D+OdwBxLABxLABxLABxWksCe3p62loqsbm5mebev39fjK9evZpirly5UoyvXbuWYh48eJDmXrx4UYz39vZSzM+fP4vxp0+fUszXr1+L8aNHjzrGRER8//69GP/48SPF/Pr1qxj//t2sqOsdQBwLQBwLQJzWcoATJ060tVTi27dvae7s2bPF+PLlyynm5s2bxRhzgoiIU6dOpbmaZ/DS0lIxZnnK7u5uMZ6YmEgxLL/AvGB7ezvFfPjw4Y+fieB/N8Q7gDgWgDgWgDgWgDiNk8BuGj8IqypihXB0dDTFXLx4sRjPz8+nmPv376c5TPCmpqZSzNbWVjHGpCwiYm1t7Y+fieB/R0xMT58+nWLY9yE11VjvAOJYAOJYAOJ0tSOoLY4fP57mnjx5Uoxv376dYtAsYsWYhw8fprlLly51/H40WdA8iojY398vxkePHk0xR47k/0Es9Hz8+DHFsO/rBDOGvAOIYwGIYwGIYwGIcyiTQEyWBgYGOn6GmSyY4D19+jTFYGdPRMTQ0FAx3tnZSTE4x5IyTOaOHav7c2P1kVUD2e9ugncAcSwAcSwAcSwAcQ5lNRDXZlUtrJAxt4wlfQhbGx3Ez58/pxhs5WIx6PIx14+1m3358qUYo6PYJt4BxLEAxLEAxDmURhDCqmhovDCzBjtrmFmEz/uIbNhsbGykGKyssec0rsOe98zQwXbytkwfhncAcSwAcSwAcSwAcRongbWVrTbWZqZTX19fx3WwGscqdlj5Y59DY4atxRK1mvOS7GwgJoHdxDuAOBaAOBaAOIeyGITPTvZdaOCcPHkyxWCBpjaXQFOHmTxoBLHWcaSm8BPRrOWb4fsBTEcsAHEsAHEsAHEOZTWwv7+/GLOuHUyoWDUQL29k6zBDC5MnZvLgpUxsHfyN7CIn1kn0N/EOII4FII4FIM6hzAHwWc26dhYWFooxXvAckS9vZMUZZg6h8cOMGWbqIHiBczdNn6Z4BxDHAhDHAhDHAhCnKgls6/VvDHZcCo0glrxh8vT8+fMUg8YLu3CRmTw4xwwcBLuIGOyc/0HjHUAcC0AcC0AcC0CcA3cCWSsVJn0swUIHD2/mjsgVOnbGkK2NiSlLAnEtFoNtajUtWn8b7wDiWADiWADitJYDMEMH59gr2pjJU2M8oRHEKm0Ie943NYIwhlUVayqGB413AHEsAHEsAHEsAHFaSwLPnTuX5oaHh4vxzMxMillZWUlz+GoXZhZh2xZL5mrOL9YkgexsIJ7hZzeaM3OqWzQ1mbwDiGMBiGMBiNNaDsDO5w8ODhZjdnzr9evXaQ4NJNY6XXNHEeYONce32PexO3uwa+n69esp5t27dx1/40HjHUAcC0AcC0AcC0Cc1pJAds4dDZT5+fkUs7i4mOawQsiSR4SZRTXJJDOL0FRhieLY2FgxHh0dTTFv3rwpxsvLyymmacWwrTOF3gHEsQDEsQDEaS0HYJce43OKHY1ix7Xwmd80B8CiDusKZjkAdgCxbie8f+jx48cpZn19vRhjcYzFRNRdFl1zFK0G7wDiWADiWADiWADitJYEMmMCW7XPnDmTYlireFsmB17SxLp/MCYiJ1jscy9fvuwYw5JHpMllU23iHUAcC0AcC0AcC0Cc1pJA1paM79y9cOFCimEt1+jOMQevptLH1kbY2URcm7luTe4eYC3wNe3cTgJN17AAxLEAxKnKAZhZgc9JZnpgtw+2UkfwvABzgPHx8RQzPT1djFkOgEeznj17lmLYLeP4fK+5+4D9jVZXV4tx01fCMpOpLbwDiGMBiGMBiGMBiNMTEa24DDWVL2aWsAohnim8ceNGisG27Ldv36aYW7duFePJyckUMzc3l+ZevXpVjGvaxvAVNhHNbwdHA6mbr5XxDiCOBSCOBSBOaznAv8Ds7GyaY8WYpaWlYowt4BH57H+bZg0WsVwMMl3DAhDHAhDHAhBHKgk0Ge8A4lgA4lgA4lgA4lgA4lgA4lgA4lgA4vwHUdiLZqGfpbQAAAAASUVORK5CYII=\" y=\"-329.198125\"/>\n   </g>\n   <g id=\"text_8\">\n    <!-- T-Shirt -->\n    <defs>\n     <path d=\"M 4.890625 31.390625 \nL 31.203125 31.390625 \nL 31.203125 23.390625 \nL 4.890625 23.390625 \nz\n\" id=\"DejaVuSans-45\"/>\n    </defs>\n    <g transform=\"translate(209.32682 323.292243)scale(0.12 -0.12)\">\n     <use xlink:href=\"#DejaVuSans-84\"/>\n     <use x=\"51.958984\" xlink:href=\"#DejaVuSans-45\"/>\n     <use x=\"88.042969\" xlink:href=\"#DejaVuSans-83\"/>\n     <use x=\"151.519531\" xlink:href=\"#DejaVuSans-104\"/>\n     <use x=\"214.898438\" xlink:href=\"#DejaVuSans-105\"/>\n     <use x=\"242.681641\" xlink:href=\"#DejaVuSans-114\"/>\n     <use x=\"283.794922\" xlink:href=\"#DejaVuSans-116\"/>\n    </g>\n   </g>\n  </g>\n  <g id=\"axes_9\">\n   <g clip-path=\"url(#p9193896022)\">\n    <image height=\"128\" id=\"imagec4de3a8583\" transform=\"scale(1 -1)translate(0 -128)\" width=\"128\" x=\"322.305882\" xlink:href=\"data:image/png;base64,\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\" y=\"-329.198125\"/>\n   </g>\n   <g id=\"text_9\">\n    <!-- Sandal -->\n    <g transform=\"translate(365.817574 323.292243)scale(0.12 -0.12)\">\n     <use xlink:href=\"#DejaVuSans-83\"/>\n     <use x=\"63.476562\" xlink:href=\"#DejaVuSans-97\"/>\n     <use x=\"124.755859\" xlink:href=\"#DejaVuSans-110\"/>\n     <use x=\"188.134766\" xlink:href=\"#DejaVuSans-100\"/>\n     <use x=\"251.611328\" xlink:href=\"#DejaVuSans-97\"/>\n     <use x=\"312.890625\" xlink:href=\"#DejaVuSans-108\"/>\n    </g>\n   </g>\n  </g>\n </g>\n <defs>\n  <clipPath id=\"pa448367acb\">\n   <rect height=\"127.905882\" width=\"127.905882\" x=\"7.2\" y=\"22.318125\"/>\n  </clipPath>\n  <clipPath id=\"p9343f17381\">\n   <rect height=\"127.905882\" width=\"127.905882\" x=\"164.752941\" y=\"22.318125\"/>\n  </clipPath>\n  <clipPath id=\"p6c69ca782b\">\n   <rect height=\"127.905882\" width=\"127.905882\" x=\"322.305882\" y=\"22.318125\"/>\n  </clipPath>\n  <clipPath id=\"p9c53ccf928\">\n   <rect height=\"127.905882\" width=\"127.905882\" x=\"7.2\" y=\"175.805184\"/>\n  </clipPath>\n  <clipPath id=\"pddda24a605\">\n   <rect height=\"127.905882\" width=\"127.905882\" x=\"164.752941\" y=\"175.805184\"/>\n  </clipPath>\n  <clipPath id=\"p1c7a684788\">\n   <rect height=\"127.905882\" width=\"127.905882\" x=\"322.305882\" y=\"175.805184\"/>\n  </clipPath>\n  <clipPath id=\"p08481f0953\">\n   <rect height=\"127.905882\" width=\"127.905882\" x=\"7.2\" y=\"329.292243\"/>\n  </clipPath>\n  <clipPath id=\"p7c71db71d8\">\n   <rect height=\"127.905882\" width=\"127.905882\" x=\"164.752941\" y=\"329.292243\"/>\n  </clipPath>\n  <clipPath id=\"p9193896022\">\n   <rect height=\"127.905882\" width=\"127.905882\" x=\"322.305882\" y=\"329.292243\"/>\n  </clipPath>\n </defs>\n</svg>\n"
          },
          "metadata": {
            "needs_background": "light"
          }
        }
      ]
    },
    {
      "cell_type": "code",
      "source": [
        "def findMaxWorkers(numWorkers, batches, passedDataset):\n",
        "\n",
        "  device = \"cuda\" if torch.cuda.is_available() else \"cpu\"\n",
        "  kwargs = {'num_workers': numWorkers, 'pin_memory': True} if device=='cuda' else {}\n",
        "\n",
        "  loader = data.DataLoader(passedDataset, batch_size = int(batches), shuffle=True,\n",
        "                            **kwargs)\n",
        "  timer = d2l.Timer()\n",
        "\n",
        "  for batch_idx, (images, labels) in enumerate(loader, 0):\n",
        "    continue\n",
        "\n",
        "  return timer.stop() "
      ],
      "metadata": {
        "id": "YbF9cXwpXv7G"
      },
      "execution_count": null,
      "outputs": []
    },
    {
      "cell_type": "code",
      "source": [
        "npWorkers = np.array([0,1,2,4,16,32,64,128])\n",
        "npBatches = np.array([32, 64, 128, 256, 512, 1024])\n",
        "maxTimer = float('inf')\n",
        "\n",
        "for batches in  npBatches:\n",
        "  for workers in npWorkers:\n",
        "    timer = findMaxWorkers(workers, batches, valid)\n",
        "    if maxTimer and timer < maxTimer:\n",
        "      maxTimer = timer\n",
        "      maxBatches = batches\n",
        "      maxWorkers = workers\n",
        "\n",
        "print(\"minimum time was \" + f'{maxTimer:.2f} sec')\n",
        "print(\"with workers: \" + str(maxWorkers) + \" and batches: \" + str(maxBatches))"
      ],
      "metadata": {
        "id": "_MXpnR2hXzw9"
      },
      "execution_count": null,
      "outputs": []
    },
    {
      "cell_type": "code",
      "source": [
        "device = \"cuda\" if torch.cuda.is_available() else \"cpu\"\n",
        "train_kwargs = {'num_workers': 4, 'pin_memory': True} if device=='cuda' else {}\n",
        "valid_kwargs = {'num_workers': 2, 'pin_memory': True} if device=='cuda' else {}\n",
        "print(\"We are using \" + device)"
      ],
      "metadata": {
        "colab": {
          "base_uri": "https://localhost:8080/"
        },
        "id": "_ERi_eJpdOiX",
        "outputId": "cf327670-17cf-4300-838b-9948977cccf3"
      },
      "execution_count": 134,
      "outputs": [
        {
          "output_type": "stream",
          "name": "stdout",
          "text": [
            "We are using cuda\n"
          ]
        }
      ]
    },
    {
      "cell_type": "code",
      "source": [
        "train_batch_size = 1024\n",
        "valid_batch_size = 512\n",
        "test_batch_size = 32\n",
        "\n",
        "train_loader = data.DataLoader(train, train_batch_size, shuffle=True,\n",
        "                             **train_kwargs)\n",
        "valid_loader = data.DataLoader(valid, valid_batch_size, shuffle=True,\n",
        "                             **valid_kwargs)\n",
        "test_loader = data.DataLoader(test, test_batch_size, shuffle=True,\n",
        "                             **valid_kwargs)"
      ],
      "metadata": {
        "colab": {
          "base_uri": "https://localhost:8080/"
        },
        "id": "pe2itT8odUmt",
        "outputId": "849429e9-bda4-4e49-ce1a-1c133f81e126"
      },
      "execution_count": 135,
      "outputs": [
        {
          "output_type": "stream",
          "name": "stderr",
          "text": [
            "/usr/local/lib/python3.7/dist-packages/torch/utils/data/dataloader.py:481: UserWarning: This DataLoader will create 4 worker processes in total. Our suggested max number of worker in current system is 2, which is smaller than what this DataLoader is going to create. Please be aware that excessive worker creation might get DataLoader running slow or even freeze, lower the worker number to avoid potential slowness/freeze if necessary.\n",
            "  cpuset_checked))\n"
          ]
        }
      ]
    },
    {
      "cell_type": "code",
      "source": [
        "import torch.nn.functional as F\n",
        "import torch.optim as optim"
      ],
      "metadata": {
        "id": "egMkiEdpdWgg"
      },
      "execution_count": 117,
      "outputs": []
    },
    {
      "cell_type": "code",
      "source": [
        "class Network(nn.Module):\n",
        "  def __init__(self):\n",
        "    super().__init__()\n",
        "\n",
        "    # define layers\n",
        "    self.conv1 = nn.Conv2d(in_channels=1, out_channels=32, kernel_size=3, padding=1, stride=1)\n",
        "    self.conv2 = nn.Conv2d(in_channels=32, out_channels=64, kernel_size=3, padding=1, stride=1)\n",
        "\n",
        "    self.batch_norm1 = nn.BatchNorm2d(num_features = 32)\n",
        "    self.batch_norm2 = nn.BatchNorm2d(num_features = 64)\n",
        "\n",
        "    self.max_pool2d = torch.nn.MaxPool2d(kernel_size=2, stride=2)\n",
        "    self.fc1 = nn.Linear(in_features=64*7*7, out_features=128)\n",
        "    self.fc2 = nn.Linear(in_features=128, out_features=64) #fully connect\n",
        "    self.dropout = nn.Dropout(p=0.3)\n",
        "    self.out = nn.Linear(in_features=64, out_features=10)\n",
        "\n",
        "  def forward(self, t):\n",
        "    # conv1\n",
        "    t = self.conv1(t)\n",
        "    t = F.relu(t)\n",
        "    t = self.batch_norm1(t)\n",
        "    t = self.max_pool2d(t)\n",
        "\n",
        "    # conv2\n",
        "    t = self.conv2(t)\n",
        "    t = F.relu(t)\n",
        "    t = self.batch_norm2(t)\n",
        "    t = self.max_pool2d(t)\n",
        "\n",
        "    # fc1\n",
        "    t = torch.flatten(t, 1) #flatten tensor to be passed to dense layer\n",
        "    t = self.fc1(t)\n",
        "    t = F.relu(t)\n",
        "\n",
        "    # fc2\n",
        "    t = self.fc2(t)\n",
        "    t = F.relu(t)\n",
        "    t = self.dropout(t)\n",
        "    \n",
        "    # output\n",
        "    t = self.out(t)\n",
        "\n",
        "    return t"
      ],
      "metadata": {
        "id": "fR8lA0xAdZXg"
      },
      "execution_count": 192,
      "outputs": []
    },
    {
      "cell_type": "code",
      "source": [
        "model = Network()\n",
        "optimizer = optim.Adam(model.parameters(), lr=0.001)\n",
        "criterion = nn.CrossEntropyLoss()"
      ],
      "metadata": {
        "id": "23Ww7dRIddTF"
      },
      "execution_count": 193,
      "outputs": []
    },
    {
      "cell_type": "code",
      "source": [
        "model = model.to(device)\n",
        "\n",
        "H = {\n",
        "\t\"train_loss\": [],\n",
        "\t\"train_acc\": [],\n",
        "\t\"val_loss\": [],\n",
        "\t\"val_acc\": []\n",
        "}\n",
        "\n",
        "trainSteps = len(train_loader.dataset) // train_batch_size\n",
        "valSteps = len(valid_loader.dataset) // valid_batch_size"
      ],
      "metadata": {
        "id": "J1E242p9dgFm"
      },
      "execution_count": 194,
      "outputs": []
    },
    {
      "cell_type": "code",
      "source": [
        "epochs = 20\n",
        "\n",
        "timer = d2l.Timer()\n",
        "\n",
        "for e in range(0, epochs):\n",
        "  model.train()\n",
        "\n",
        "  totalTrainLoss = 0\n",
        "  totalValLoss = 0\n",
        "  trainCorrect = 0\n",
        "  valCorrect = 0\n",
        "  \n",
        "  for batch_idx, (images, labels) in enumerate(train_loader, 0):\n",
        "    (images, labels) = (images.to(device, non_blocking=True), labels.to(device, non_blocking=True))\n",
        "    \n",
        "    pred = model(images)\n",
        "    loss = criterion(pred, labels)\n",
        "\n",
        "    optimizer.zero_grad()\n",
        "    loss.backward()\n",
        "    optimizer.step()\n",
        "\n",
        "    totalTrainLoss += loss\n",
        "    trainCorrect += (pred.argmax(1) == labels).type(torch.float).sum().item()\n",
        "\n",
        "    torch.cuda.empty_cache()\n",
        "    \n",
        "  with torch.no_grad():\n",
        "    model.eval()\n",
        "\n",
        "    for batch_idx, (images, labels) in enumerate(valid_loader, 0):\n",
        "      (images, labels) = (images.to(device, non_blocking=True), labels.to(device, non_blocking=True))\n",
        "\n",
        "      pred = model(images)\n",
        "      totalValLoss += criterion(pred, labels)\n",
        "\n",
        "      valCorrect += (pred.argmax(1) == labels).type(torch.float).sum().item()\n",
        "\n",
        "      torch.cuda.empty_cache()\n",
        "    \n",
        "  avgTrainLoss = totalTrainLoss / trainSteps\n",
        "  avgValLoss = totalValLoss / valSteps\n",
        "  trainCorrect = trainCorrect / len(train_loader.dataset)\n",
        "  valCorrect = valCorrect / len(valid_loader.dataset)\n",
        "\n",
        "  \n",
        "  H[\"train_loss\"].append(avgTrainLoss.cpu().detach().numpy())\n",
        "  H[\"train_acc\"].append(trainCorrect)\n",
        "  H[\"val_loss\"].append(avgValLoss.cpu().detach().numpy())\n",
        "  H[\"val_acc\"].append(valCorrect)\n",
        "\n",
        "  print(\"[INFO] EPOCH: {}/{}\".format(e + 1, epochs))\n",
        "  print(\"Train loss: {:.6f}, Train accuracy: {:.4f}\".format(\n",
        "    avgTrainLoss, trainCorrect))\n",
        "  print(\"Val loss: {:.6f}, Val accuracy: {:.4f}\\n\".format(\n",
        "    avgValLoss, valCorrect))\n",
        "\n",
        "f'{timer.stop():.2f} sec'   "
      ],
      "metadata": {
        "colab": {
          "base_uri": "https://localhost:8080/",
          "height": 1000
        },
        "id": "4eeqs2audjH9",
        "outputId": "2486fd2b-c933-4063-cb04-e390b4c1c547"
      },
      "execution_count": 195,
      "outputs": [
        {
          "output_type": "stream",
          "name": "stderr",
          "text": [
            "/usr/local/lib/python3.7/dist-packages/torch/utils/data/dataloader.py:481: UserWarning: This DataLoader will create 4 worker processes in total. Our suggested max number of worker in current system is 2, which is smaller than what this DataLoader is going to create. Please be aware that excessive worker creation might get DataLoader running slow or even freeze, lower the worker number to avoid potential slowness/freeze if necessary.\n",
            "  cpuset_checked))\n"
          ]
        },
        {
          "output_type": "stream",
          "name": "stdout",
          "text": [
            "[INFO] EPOCH: 1/20\n",
            "Train loss: 0.847048, Train accuracy: 0.6959\n",
            "Val loss: 0.509260, Val accuracy: 0.8213\n",
            "\n",
            "[INFO] EPOCH: 2/20\n",
            "Train loss: 0.513132, Train accuracy: 0.8156\n",
            "Val loss: 0.409231, Val accuracy: 0.8597\n",
            "\n",
            "[INFO] EPOCH: 3/20\n",
            "Train loss: 0.443596, Train accuracy: 0.8422\n",
            "Val loss: 0.374986, Val accuracy: 0.8704\n",
            "\n",
            "[INFO] EPOCH: 4/20\n",
            "Train loss: 0.403536, Train accuracy: 0.8556\n",
            "Val loss: 0.347442, Val accuracy: 0.8830\n",
            "\n",
            "[INFO] EPOCH: 5/20\n",
            "Train loss: 0.380947, Train accuracy: 0.8642\n",
            "Val loss: 0.338773, Val accuracy: 0.8842\n",
            "\n",
            "[INFO] EPOCH: 6/20\n",
            "Train loss: 0.361004, Train accuracy: 0.8719\n",
            "Val loss: 0.335682, Val accuracy: 0.8818\n",
            "\n",
            "[INFO] EPOCH: 7/20\n",
            "Train loss: 0.343861, Train accuracy: 0.8770\n",
            "Val loss: 0.312298, Val accuracy: 0.8906\n",
            "\n",
            "[INFO] EPOCH: 8/20\n",
            "Train loss: 0.327439, Train accuracy: 0.8830\n",
            "Val loss: 0.308643, Val accuracy: 0.8944\n",
            "\n",
            "[INFO] EPOCH: 9/20\n",
            "Train loss: 0.318805, Train accuracy: 0.8882\n",
            "Val loss: 0.305451, Val accuracy: 0.8928\n",
            "\n",
            "[INFO] EPOCH: 10/20\n",
            "Train loss: 0.311789, Train accuracy: 0.8871\n",
            "Val loss: 0.299226, Val accuracy: 0.8979\n",
            "\n",
            "[INFO] EPOCH: 11/20\n",
            "Train loss: 0.302930, Train accuracy: 0.8921\n",
            "Val loss: 0.288437, Val accuracy: 0.8988\n",
            "\n",
            "[INFO] EPOCH: 12/20\n",
            "Train loss: 0.296332, Train accuracy: 0.8931\n",
            "Val loss: 0.305219, Val accuracy: 0.8971\n",
            "\n",
            "[INFO] EPOCH: 13/20\n",
            "Train loss: 0.290642, Train accuracy: 0.8973\n",
            "Val loss: 0.302978, Val accuracy: 0.8967\n",
            "\n",
            "[INFO] EPOCH: 14/20\n",
            "Train loss: 0.283214, Train accuracy: 0.8989\n",
            "Val loss: 0.281117, Val accuracy: 0.9058\n",
            "\n",
            "[INFO] EPOCH: 15/20\n",
            "Train loss: 0.280023, Train accuracy: 0.9003\n",
            "Val loss: 0.280677, Val accuracy: 0.9070\n",
            "\n",
            "[INFO] EPOCH: 16/20\n",
            "Train loss: 0.272449, Train accuracy: 0.9029\n",
            "Val loss: 0.269374, Val accuracy: 0.9084\n",
            "\n",
            "[INFO] EPOCH: 17/20\n",
            "Train loss: 0.269998, Train accuracy: 0.9044\n",
            "Val loss: 0.277394, Val accuracy: 0.9073\n",
            "\n",
            "[INFO] EPOCH: 18/20\n",
            "Train loss: 0.266088, Train accuracy: 0.9054\n",
            "Val loss: 0.273083, Val accuracy: 0.9078\n",
            "\n",
            "[INFO] EPOCH: 19/20\n",
            "Train loss: 0.260683, Train accuracy: 0.9066\n",
            "Val loss: 0.267303, Val accuracy: 0.9123\n",
            "\n",
            "[INFO] EPOCH: 20/20\n",
            "Train loss: 0.257341, Train accuracy: 0.9078\n",
            "Val loss: 0.270918, Val accuracy: 0.9067\n",
            "\n"
          ]
        },
        {
          "output_type": "execute_result",
          "data": {
            "text/plain": [
              "'771.91 sec'"
            ],
            "application/vnd.google.colaboratory.intrinsic+json": {
              "type": "string"
            }
          },
          "metadata": {},
          "execution_count": 195
        }
      ]
    },
    {
      "cell_type": "code",
      "source": [
        "torch.save(model, 'model.pt')"
      ],
      "metadata": {
        "id": "ewAVsEzFf3Z0"
      },
      "execution_count": 144,
      "outputs": []
    },
    {
      "cell_type": "code",
      "source": [
        "model = torch.load('model.pt')\n",
        "model.eval()"
      ],
      "metadata": {
        "colab": {
          "base_uri": "https://localhost:8080/"
        },
        "id": "XCYQoITRf7j4",
        "outputId": "1fc96264-954c-4902-8d31-52eed974c333"
      },
      "execution_count": 145,
      "outputs": [
        {
          "output_type": "execute_result",
          "data": {
            "text/plain": [
              "Network(\n",
              "  (conv1): Conv2d(1, 32, kernel_size=(3, 3), stride=(1, 1), padding=(1, 1))\n",
              "  (conv2): Conv2d(32, 64, kernel_size=(3, 3), stride=(1, 1), padding=(1, 1))\n",
              "  (batch_norm1): BatchNorm2d(32, eps=1e-05, momentum=0.1, affine=True, track_running_stats=True)\n",
              "  (batch_norm2): BatchNorm2d(64, eps=1e-05, momentum=0.1, affine=True, track_running_stats=True)\n",
              "  (max_pool2d): MaxPool2d(kernel_size=2, stride=2, padding=0, dilation=1, ceil_mode=False)\n",
              "  (fc1): Linear(in_features=3136, out_features=128, bias=True)\n",
              "  (fc2): Linear(in_features=128, out_features=64, bias=True)\n",
              "  (dropout): Dropout(p=0.3, inplace=False)\n",
              "  (out): Linear(in_features=64, out_features=10, bias=True)\n",
              ")"
            ]
          },
          "metadata": {},
          "execution_count": 145
        }
      ]
    },
    {
      "cell_type": "code",
      "source": [
        "def predict_image(img, model):\n",
        "    xb = img.unsqueeze(0).to(device)\n",
        "    yb = model(xb)\n",
        "    _, preds  = torch.max(yb, dim=1)\n",
        "    return preds[0].item()"
      ],
      "metadata": {
        "id": "W8gXVRJ9p2Iu"
      },
      "execution_count": 146,
      "outputs": []
    },
    {
      "cell_type": "code",
      "source": [
        "img, label = test[3]\n",
        "plt.imshow(img[0], cmap='gray')\n",
        "print(\"Label is: \" + labels_map[label], ', Predicted:', labels_map[predict_image(img, model)])"
      ],
      "metadata": {
        "colab": {
          "base_uri": "https://localhost:8080/",
          "height": 370
        },
        "id": "rT2az2bDl6Lc",
        "outputId": "07813472-ec59-4247-8242-a957f69158ec"
      },
      "execution_count": 147,
      "outputs": [
        {
          "output_type": "stream",
          "name": "stdout",
          "text": [
            "Label is: Sneaker , Predicted: Sneaker\n"
          ]
        },
        {
          "output_type": "display_data",
          "data": {
            "text/plain": [
              "<Figure size 432x288 with 1 Axes>"
            ],
            "image/svg+xml": "<?xml version=\"1.0\" encoding=\"utf-8\" standalone=\"no\"?>\n<!DOCTYPE svg PUBLIC \"-//W3C//DTD SVG 1.1//EN\"\n  \"http://www.w3.org/Graphics/SVG/1.1/DTD/svg11.dtd\">\n<!-- Created with matplotlib (https://matplotlib.org/) -->\n<svg height=\"248.518125pt\" version=\"1.1\" viewBox=\"0 0 251.565 248.518125\" width=\"251.565pt\" xmlns=\"http://www.w3.org/2000/svg\" xmlns:xlink=\"http://www.w3.org/1999/xlink\">\n <defs>\n  <style type=\"text/css\">\n*{stroke-linecap:butt;stroke-linejoin:round;}\n  </style>\n </defs>\n <g id=\"figure_1\">\n  <g id=\"patch_1\">\n   <path d=\"M 0 248.518125 \nL 251.565 248.518125 \nL 251.565 0 \nL 0 0 \nz\n\" style=\"fill:none;\"/>\n  </g>\n  <g id=\"axes_1\">\n   <g id=\"patch_2\">\n    <path d=\"M 26.925 224.64 \nL 244.365 224.64 \nL 244.365 7.2 \nL 26.925 7.2 \nz\n\" style=\"fill:#ffffff;\"/>\n   </g>\n   <g clip-path=\"url(#p328751f958)\">\n    <image height=\"218\" id=\"image321ce2ffc3\" transform=\"scale(1 -1)translate(0 -218)\" width=\"218\" x=\"26.925\" xlink:href=\"data:image/png;base64,\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\" y=\"-6.64\"/>\n   </g>\n   <g id=\"matplotlib.axis_1\">\n    <g id=\"xtick_1\">\n     <g id=\"line2d_1\">\n      <defs>\n       <path d=\"M 0 0 \nL 0 3.5 \n\" id=\"m5fd68a5cab\" style=\"stroke:#000000;stroke-width:0.8;\"/>\n      </defs>\n      <g>\n       <use style=\"stroke:#000000;stroke-width:0.8;\" x=\"30.807857\" xlink:href=\"#m5fd68a5cab\" y=\"224.64\"/>\n      </g>\n     </g>\n     <g id=\"text_1\">\n      <!-- 0 -->\n      <defs>\n       <path d=\"M 31.78125 66.40625 \nQ 24.171875 66.40625 20.328125 58.90625 \nQ 16.5 51.421875 16.5 36.375 \nQ 16.5 21.390625 20.328125 13.890625 \nQ 24.171875 6.390625 31.78125 6.390625 \nQ 39.453125 6.390625 43.28125 13.890625 \nQ 47.125 21.390625 47.125 36.375 \nQ 47.125 51.421875 43.28125 58.90625 \nQ 39.453125 66.40625 31.78125 66.40625 \nz\nM 31.78125 74.21875 \nQ 44.046875 74.21875 50.515625 64.515625 \nQ 56.984375 54.828125 56.984375 36.375 \nQ 56.984375 17.96875 50.515625 8.265625 \nQ 44.046875 -1.421875 31.78125 -1.421875 \nQ 19.53125 -1.421875 13.0625 8.265625 \nQ 6.59375 17.96875 6.59375 36.375 \nQ 6.59375 54.828125 13.0625 64.515625 \nQ 19.53125 74.21875 31.78125 74.21875 \nz\n\" id=\"DejaVuSans-48\"/>\n      </defs>\n      <g transform=\"translate(27.626607 239.238437)scale(0.1 -0.1)\">\n       <use xlink:href=\"#DejaVuSans-48\"/>\n      </g>\n     </g>\n    </g>\n    <g id=\"xtick_2\">\n     <g id=\"line2d_2\">\n      <g>\n       <use style=\"stroke:#000000;stroke-width:0.8;\" x=\"69.636429\" xlink:href=\"#m5fd68a5cab\" y=\"224.64\"/>\n      </g>\n     </g>\n     <g id=\"text_2\">\n      <!-- 5 -->\n      <defs>\n       <path d=\"M 10.796875 72.90625 \nL 49.515625 72.90625 \nL 49.515625 64.59375 \nL 19.828125 64.59375 \nL 19.828125 46.734375 \nQ 21.96875 47.46875 24.109375 47.828125 \nQ 26.265625 48.1875 28.421875 48.1875 \nQ 40.625 48.1875 47.75 41.5 \nQ 54.890625 34.8125 54.890625 23.390625 \nQ 54.890625 11.625 47.5625 5.09375 \nQ 40.234375 -1.421875 26.90625 -1.421875 \nQ 22.3125 -1.421875 17.546875 -0.640625 \nQ 12.796875 0.140625 7.71875 1.703125 \nL 7.71875 11.625 \nQ 12.109375 9.234375 16.796875 8.0625 \nQ 21.484375 6.890625 26.703125 6.890625 \nQ 35.15625 6.890625 40.078125 11.328125 \nQ 45.015625 15.765625 45.015625 23.390625 \nQ 45.015625 31 40.078125 35.4375 \nQ 35.15625 39.890625 26.703125 39.890625 \nQ 22.75 39.890625 18.8125 39.015625 \nQ 14.890625 38.140625 10.796875 36.28125 \nz\n\" id=\"DejaVuSans-53\"/>\n      </defs>\n      <g transform=\"translate(66.455179 239.238437)scale(0.1 -0.1)\">\n       <use xlink:href=\"#DejaVuSans-53\"/>\n      </g>\n     </g>\n    </g>\n    <g id=\"xtick_3\">\n     <g id=\"line2d_3\">\n      <g>\n       <use style=\"stroke:#000000;stroke-width:0.8;\" x=\"108.465\" xlink:href=\"#m5fd68a5cab\" y=\"224.64\"/>\n      </g>\n     </g>\n     <g id=\"text_3\">\n      <!-- 10 -->\n      <defs>\n       <path d=\"M 12.40625 8.296875 \nL 28.515625 8.296875 \nL 28.515625 63.921875 \nL 10.984375 60.40625 \nL 10.984375 69.390625 \nL 28.421875 72.90625 \nL 38.28125 72.90625 \nL 38.28125 8.296875 \nL 54.390625 8.296875 \nL 54.390625 0 \nL 12.40625 0 \nz\n\" id=\"DejaVuSans-49\"/>\n      </defs>\n      <g transform=\"translate(102.1025 239.238437)scale(0.1 -0.1)\">\n       <use xlink:href=\"#DejaVuSans-49\"/>\n       <use x=\"63.623047\" xlink:href=\"#DejaVuSans-48\"/>\n      </g>\n     </g>\n    </g>\n    <g id=\"xtick_4\">\n     <g id=\"line2d_4\">\n      <g>\n       <use style=\"stroke:#000000;stroke-width:0.8;\" x=\"147.293571\" xlink:href=\"#m5fd68a5cab\" y=\"224.64\"/>\n      </g>\n     </g>\n     <g id=\"text_4\">\n      <!-- 15 -->\n      <g transform=\"translate(140.931071 239.238437)scale(0.1 -0.1)\">\n       <use xlink:href=\"#DejaVuSans-49\"/>\n       <use x=\"63.623047\" xlink:href=\"#DejaVuSans-53\"/>\n      </g>\n     </g>\n    </g>\n    <g id=\"xtick_5\">\n     <g id=\"line2d_5\">\n      <g>\n       <use style=\"stroke:#000000;stroke-width:0.8;\" x=\"186.122143\" xlink:href=\"#m5fd68a5cab\" y=\"224.64\"/>\n      </g>\n     </g>\n     <g id=\"text_5\">\n      <!-- 20 -->\n      <defs>\n       <path d=\"M 19.1875 8.296875 \nL 53.609375 8.296875 \nL 53.609375 0 \nL 7.328125 0 \nL 7.328125 8.296875 \nQ 12.9375 14.109375 22.625 23.890625 \nQ 32.328125 33.6875 34.8125 36.53125 \nQ 39.546875 41.84375 41.421875 45.53125 \nQ 43.3125 49.21875 43.3125 52.78125 \nQ 43.3125 58.59375 39.234375 62.25 \nQ 35.15625 65.921875 28.609375 65.921875 \nQ 23.96875 65.921875 18.8125 64.3125 \nQ 13.671875 62.703125 7.8125 59.421875 \nL 7.8125 69.390625 \nQ 13.765625 71.78125 18.9375 73 \nQ 24.125 74.21875 28.421875 74.21875 \nQ 39.75 74.21875 46.484375 68.546875 \nQ 53.21875 62.890625 53.21875 53.421875 \nQ 53.21875 48.921875 51.53125 44.890625 \nQ 49.859375 40.875 45.40625 35.40625 \nQ 44.1875 33.984375 37.640625 27.21875 \nQ 31.109375 20.453125 19.1875 8.296875 \nz\n\" id=\"DejaVuSans-50\"/>\n      </defs>\n      <g transform=\"translate(179.759643 239.238437)scale(0.1 -0.1)\">\n       <use xlink:href=\"#DejaVuSans-50\"/>\n       <use x=\"63.623047\" xlink:href=\"#DejaVuSans-48\"/>\n      </g>\n     </g>\n    </g>\n    <g id=\"xtick_6\">\n     <g id=\"line2d_6\">\n      <g>\n       <use style=\"stroke:#000000;stroke-width:0.8;\" x=\"224.950714\" xlink:href=\"#m5fd68a5cab\" y=\"224.64\"/>\n      </g>\n     </g>\n     <g id=\"text_6\">\n      <!-- 25 -->\n      <g transform=\"translate(218.588214 239.238437)scale(0.1 -0.1)\">\n       <use xlink:href=\"#DejaVuSans-50\"/>\n       <use x=\"63.623047\" xlink:href=\"#DejaVuSans-53\"/>\n      </g>\n     </g>\n    </g>\n   </g>\n   <g id=\"matplotlib.axis_2\">\n    <g id=\"ytick_1\">\n     <g id=\"line2d_7\">\n      <defs>\n       <path d=\"M 0 0 \nL -3.5 0 \n\" id=\"mee0a287797\" style=\"stroke:#000000;stroke-width:0.8;\"/>\n      </defs>\n      <g>\n       <use style=\"stroke:#000000;stroke-width:0.8;\" x=\"26.925\" xlink:href=\"#mee0a287797\" y=\"11.082857\"/>\n      </g>\n     </g>\n     <g id=\"text_7\">\n      <!-- 0 -->\n      <g transform=\"translate(13.5625 14.882076)scale(0.1 -0.1)\">\n       <use xlink:href=\"#DejaVuSans-48\"/>\n      </g>\n     </g>\n    </g>\n    <g id=\"ytick_2\">\n     <g id=\"line2d_8\">\n      <g>\n       <use style=\"stroke:#000000;stroke-width:0.8;\" x=\"26.925\" xlink:href=\"#mee0a287797\" y=\"49.911429\"/>\n      </g>\n     </g>\n     <g id=\"text_8\">\n      <!-- 5 -->\n      <g transform=\"translate(13.5625 53.710647)scale(0.1 -0.1)\">\n       <use xlink:href=\"#DejaVuSans-53\"/>\n      </g>\n     </g>\n    </g>\n    <g id=\"ytick_3\">\n     <g id=\"line2d_9\">\n      <g>\n       <use style=\"stroke:#000000;stroke-width:0.8;\" x=\"26.925\" xlink:href=\"#mee0a287797\" y=\"88.74\"/>\n      </g>\n     </g>\n     <g id=\"text_9\">\n      <!-- 10 -->\n      <g transform=\"translate(7.2 92.539219)scale(0.1 -0.1)\">\n       <use xlink:href=\"#DejaVuSans-49\"/>\n       <use x=\"63.623047\" xlink:href=\"#DejaVuSans-48\"/>\n      </g>\n     </g>\n    </g>\n    <g id=\"ytick_4\">\n     <g id=\"line2d_10\">\n      <g>\n       <use style=\"stroke:#000000;stroke-width:0.8;\" x=\"26.925\" xlink:href=\"#mee0a287797\" y=\"127.568571\"/>\n      </g>\n     </g>\n     <g id=\"text_10\">\n      <!-- 15 -->\n      <g transform=\"translate(7.2 131.36779)scale(0.1 -0.1)\">\n       <use xlink:href=\"#DejaVuSans-49\"/>\n       <use x=\"63.623047\" xlink:href=\"#DejaVuSans-53\"/>\n      </g>\n     </g>\n    </g>\n    <g id=\"ytick_5\">\n     <g id=\"line2d_11\">\n      <g>\n       <use style=\"stroke:#000000;stroke-width:0.8;\" x=\"26.925\" xlink:href=\"#mee0a287797\" y=\"166.397143\"/>\n      </g>\n     </g>\n     <g id=\"text_11\">\n      <!-- 20 -->\n      <g transform=\"translate(7.2 170.196362)scale(0.1 -0.1)\">\n       <use xlink:href=\"#DejaVuSans-50\"/>\n       <use x=\"63.623047\" xlink:href=\"#DejaVuSans-48\"/>\n      </g>\n     </g>\n    </g>\n    <g id=\"ytick_6\">\n     <g id=\"line2d_12\">\n      <g>\n       <use style=\"stroke:#000000;stroke-width:0.8;\" x=\"26.925\" xlink:href=\"#mee0a287797\" y=\"205.225714\"/>\n      </g>\n     </g>\n     <g id=\"text_12\">\n      <!-- 25 -->\n      <g transform=\"translate(7.2 209.024933)scale(0.1 -0.1)\">\n       <use xlink:href=\"#DejaVuSans-50\"/>\n       <use x=\"63.623047\" xlink:href=\"#DejaVuSans-53\"/>\n      </g>\n     </g>\n    </g>\n   </g>\n   <g id=\"patch_3\">\n    <path d=\"M 26.925 224.64 \nL 26.925 7.2 \n\" style=\"fill:none;stroke:#000000;stroke-linecap:square;stroke-linejoin:miter;stroke-width:0.8;\"/>\n   </g>\n   <g id=\"patch_4\">\n    <path d=\"M 244.365 224.64 \nL 244.365 7.2 \n\" style=\"fill:none;stroke:#000000;stroke-linecap:square;stroke-linejoin:miter;stroke-width:0.8;\"/>\n   </g>\n   <g id=\"patch_5\">\n    <path d=\"M 26.925 224.64 \nL 244.365 224.64 \n\" style=\"fill:none;stroke:#000000;stroke-linecap:square;stroke-linejoin:miter;stroke-width:0.8;\"/>\n   </g>\n   <g id=\"patch_6\">\n    <path d=\"M 26.925 7.2 \nL 244.365 7.2 \n\" style=\"fill:none;stroke:#000000;stroke-linecap:square;stroke-linejoin:miter;stroke-width:0.8;\"/>\n   </g>\n  </g>\n </g>\n <defs>\n  <clipPath id=\"p328751f958\">\n   <rect height=\"217.44\" width=\"217.44\" x=\"26.925\" y=\"7.2\"/>\n  </clipPath>\n </defs>\n</svg>\n"
          },
          "metadata": {
            "needs_background": "light"
          }
        }
      ]
    },
    {
      "cell_type": "code",
      "source": [
        "img, label = test[600]\n",
        "plt.imshow(img[0], cmap='gray')\n",
        "print(\"Label is: \" + labels_map[label], ', Predicted:', labels_map[predict_image(img, model)])"
      ],
      "metadata": {
        "colab": {
          "base_uri": "https://localhost:8080/",
          "height": 370
        },
        "id": "s9VURAWeqd_a",
        "outputId": "fab498e9-706d-4c1f-f49b-34c5d5d4376d"
      },
      "execution_count": 148,
      "outputs": [
        {
          "output_type": "stream",
          "name": "stdout",
          "text": [
            "Label is: Bag , Predicted: Bag\n"
          ]
        },
        {
          "output_type": "display_data",
          "data": {
            "text/plain": [
              "<Figure size 432x288 with 1 Axes>"
            ],
            "image/svg+xml": "<?xml version=\"1.0\" encoding=\"utf-8\" standalone=\"no\"?>\n<!DOCTYPE svg PUBLIC \"-//W3C//DTD SVG 1.1//EN\"\n  \"http://www.w3.org/Graphics/SVG/1.1/DTD/svg11.dtd\">\n<!-- Created with matplotlib (https://matplotlib.org/) -->\n<svg height=\"248.518125pt\" version=\"1.1\" viewBox=\"0 0 251.565 248.518125\" width=\"251.565pt\" xmlns=\"http://www.w3.org/2000/svg\" xmlns:xlink=\"http://www.w3.org/1999/xlink\">\n <defs>\n  <style type=\"text/css\">\n*{stroke-linecap:butt;stroke-linejoin:round;}\n  </style>\n </defs>\n <g id=\"figure_1\">\n  <g id=\"patch_1\">\n   <path d=\"M 0 248.518125 \nL 251.565 248.518125 \nL 251.565 0 \nL 0 0 \nz\n\" style=\"fill:none;\"/>\n  </g>\n  <g id=\"axes_1\">\n   <g id=\"patch_2\">\n    <path d=\"M 26.925 224.64 \nL 244.365 224.64 \nL 244.365 7.2 \nL 26.925 7.2 \nz\n\" style=\"fill:#ffffff;\"/>\n   </g>\n   <g clip-path=\"url(#p97c6d3e671)\">\n    <image height=\"218\" id=\"image5d58855921\" transform=\"scale(1 -1)translate(0 -218)\" width=\"218\" x=\"26.925\" xlink:href=\"data:image/png;base64,\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\" y=\"-6.64\"/>\n   </g>\n   <g id=\"matplotlib.axis_1\">\n    <g id=\"xtick_1\">\n     <g id=\"line2d_1\">\n      <defs>\n       <path d=\"M 0 0 \nL 0 3.5 \n\" id=\"mff21c5f683\" style=\"stroke:#000000;stroke-width:0.8;\"/>\n      </defs>\n      <g>\n       <use style=\"stroke:#000000;stroke-width:0.8;\" x=\"30.807857\" xlink:href=\"#mff21c5f683\" y=\"224.64\"/>\n      </g>\n     </g>\n     <g id=\"text_1\">\n      <!-- 0 -->\n      <defs>\n       <path d=\"M 31.78125 66.40625 \nQ 24.171875 66.40625 20.328125 58.90625 \nQ 16.5 51.421875 16.5 36.375 \nQ 16.5 21.390625 20.328125 13.890625 \nQ 24.171875 6.390625 31.78125 6.390625 \nQ 39.453125 6.390625 43.28125 13.890625 \nQ 47.125 21.390625 47.125 36.375 \nQ 47.125 51.421875 43.28125 58.90625 \nQ 39.453125 66.40625 31.78125 66.40625 \nz\nM 31.78125 74.21875 \nQ 44.046875 74.21875 50.515625 64.515625 \nQ 56.984375 54.828125 56.984375 36.375 \nQ 56.984375 17.96875 50.515625 8.265625 \nQ 44.046875 -1.421875 31.78125 -1.421875 \nQ 19.53125 -1.421875 13.0625 8.265625 \nQ 6.59375 17.96875 6.59375 36.375 \nQ 6.59375 54.828125 13.0625 64.515625 \nQ 19.53125 74.21875 31.78125 74.21875 \nz\n\" id=\"DejaVuSans-48\"/>\n      </defs>\n      <g transform=\"translate(27.626607 239.238437)scale(0.1 -0.1)\">\n       <use xlink:href=\"#DejaVuSans-48\"/>\n      </g>\n     </g>\n    </g>\n    <g id=\"xtick_2\">\n     <g id=\"line2d_2\">\n      <g>\n       <use style=\"stroke:#000000;stroke-width:0.8;\" x=\"69.636429\" xlink:href=\"#mff21c5f683\" y=\"224.64\"/>\n      </g>\n     </g>\n     <g id=\"text_2\">\n      <!-- 5 -->\n      <defs>\n       <path d=\"M 10.796875 72.90625 \nL 49.515625 72.90625 \nL 49.515625 64.59375 \nL 19.828125 64.59375 \nL 19.828125 46.734375 \nQ 21.96875 47.46875 24.109375 47.828125 \nQ 26.265625 48.1875 28.421875 48.1875 \nQ 40.625 48.1875 47.75 41.5 \nQ 54.890625 34.8125 54.890625 23.390625 \nQ 54.890625 11.625 47.5625 5.09375 \nQ 40.234375 -1.421875 26.90625 -1.421875 \nQ 22.3125 -1.421875 17.546875 -0.640625 \nQ 12.796875 0.140625 7.71875 1.703125 \nL 7.71875 11.625 \nQ 12.109375 9.234375 16.796875 8.0625 \nQ 21.484375 6.890625 26.703125 6.890625 \nQ 35.15625 6.890625 40.078125 11.328125 \nQ 45.015625 15.765625 45.015625 23.390625 \nQ 45.015625 31 40.078125 35.4375 \nQ 35.15625 39.890625 26.703125 39.890625 \nQ 22.75 39.890625 18.8125 39.015625 \nQ 14.890625 38.140625 10.796875 36.28125 \nz\n\" id=\"DejaVuSans-53\"/>\n      </defs>\n      <g transform=\"translate(66.455179 239.238437)scale(0.1 -0.1)\">\n       <use xlink:href=\"#DejaVuSans-53\"/>\n      </g>\n     </g>\n    </g>\n    <g id=\"xtick_3\">\n     <g id=\"line2d_3\">\n      <g>\n       <use style=\"stroke:#000000;stroke-width:0.8;\" x=\"108.465\" xlink:href=\"#mff21c5f683\" y=\"224.64\"/>\n      </g>\n     </g>\n     <g id=\"text_3\">\n      <!-- 10 -->\n      <defs>\n       <path d=\"M 12.40625 8.296875 \nL 28.515625 8.296875 \nL 28.515625 63.921875 \nL 10.984375 60.40625 \nL 10.984375 69.390625 \nL 28.421875 72.90625 \nL 38.28125 72.90625 \nL 38.28125 8.296875 \nL 54.390625 8.296875 \nL 54.390625 0 \nL 12.40625 0 \nz\n\" id=\"DejaVuSans-49\"/>\n      </defs>\n      <g transform=\"translate(102.1025 239.238437)scale(0.1 -0.1)\">\n       <use xlink:href=\"#DejaVuSans-49\"/>\n       <use x=\"63.623047\" xlink:href=\"#DejaVuSans-48\"/>\n      </g>\n     </g>\n    </g>\n    <g id=\"xtick_4\">\n     <g id=\"line2d_4\">\n      <g>\n       <use style=\"stroke:#000000;stroke-width:0.8;\" x=\"147.293571\" xlink:href=\"#mff21c5f683\" y=\"224.64\"/>\n      </g>\n     </g>\n     <g id=\"text_4\">\n      <!-- 15 -->\n      <g transform=\"translate(140.931071 239.238437)scale(0.1 -0.1)\">\n       <use xlink:href=\"#DejaVuSans-49\"/>\n       <use x=\"63.623047\" xlink:href=\"#DejaVuSans-53\"/>\n      </g>\n     </g>\n    </g>\n    <g id=\"xtick_5\">\n     <g id=\"line2d_5\">\n      <g>\n       <use style=\"stroke:#000000;stroke-width:0.8;\" x=\"186.122143\" xlink:href=\"#mff21c5f683\" y=\"224.64\"/>\n      </g>\n     </g>\n     <g id=\"text_5\">\n      <!-- 20 -->\n      <defs>\n       <path d=\"M 19.1875 8.296875 \nL 53.609375 8.296875 \nL 53.609375 0 \nL 7.328125 0 \nL 7.328125 8.296875 \nQ 12.9375 14.109375 22.625 23.890625 \nQ 32.328125 33.6875 34.8125 36.53125 \nQ 39.546875 41.84375 41.421875 45.53125 \nQ 43.3125 49.21875 43.3125 52.78125 \nQ 43.3125 58.59375 39.234375 62.25 \nQ 35.15625 65.921875 28.609375 65.921875 \nQ 23.96875 65.921875 18.8125 64.3125 \nQ 13.671875 62.703125 7.8125 59.421875 \nL 7.8125 69.390625 \nQ 13.765625 71.78125 18.9375 73 \nQ 24.125 74.21875 28.421875 74.21875 \nQ 39.75 74.21875 46.484375 68.546875 \nQ 53.21875 62.890625 53.21875 53.421875 \nQ 53.21875 48.921875 51.53125 44.890625 \nQ 49.859375 40.875 45.40625 35.40625 \nQ 44.1875 33.984375 37.640625 27.21875 \nQ 31.109375 20.453125 19.1875 8.296875 \nz\n\" id=\"DejaVuSans-50\"/>\n      </defs>\n      <g transform=\"translate(179.759643 239.238437)scale(0.1 -0.1)\">\n       <use xlink:href=\"#DejaVuSans-50\"/>\n       <use x=\"63.623047\" xlink:href=\"#DejaVuSans-48\"/>\n      </g>\n     </g>\n    </g>\n    <g id=\"xtick_6\">\n     <g id=\"line2d_6\">\n      <g>\n       <use style=\"stroke:#000000;stroke-width:0.8;\" x=\"224.950714\" xlink:href=\"#mff21c5f683\" y=\"224.64\"/>\n      </g>\n     </g>\n     <g id=\"text_6\">\n      <!-- 25 -->\n      <g transform=\"translate(218.588214 239.238437)scale(0.1 -0.1)\">\n       <use xlink:href=\"#DejaVuSans-50\"/>\n       <use x=\"63.623047\" xlink:href=\"#DejaVuSans-53\"/>\n      </g>\n     </g>\n    </g>\n   </g>\n   <g id=\"matplotlib.axis_2\">\n    <g id=\"ytick_1\">\n     <g id=\"line2d_7\">\n      <defs>\n       <path d=\"M 0 0 \nL -3.5 0 \n\" id=\"mc6a6b298ac\" style=\"stroke:#000000;stroke-width:0.8;\"/>\n      </defs>\n      <g>\n       <use style=\"stroke:#000000;stroke-width:0.8;\" x=\"26.925\" xlink:href=\"#mc6a6b298ac\" y=\"11.082857\"/>\n      </g>\n     </g>\n     <g id=\"text_7\">\n      <!-- 0 -->\n      <g transform=\"translate(13.5625 14.882076)scale(0.1 -0.1)\">\n       <use xlink:href=\"#DejaVuSans-48\"/>\n      </g>\n     </g>\n    </g>\n    <g id=\"ytick_2\">\n     <g id=\"line2d_8\">\n      <g>\n       <use style=\"stroke:#000000;stroke-width:0.8;\" x=\"26.925\" xlink:href=\"#mc6a6b298ac\" y=\"49.911429\"/>\n      </g>\n     </g>\n     <g id=\"text_8\">\n      <!-- 5 -->\n      <g transform=\"translate(13.5625 53.710647)scale(0.1 -0.1)\">\n       <use xlink:href=\"#DejaVuSans-53\"/>\n      </g>\n     </g>\n    </g>\n    <g id=\"ytick_3\">\n     <g id=\"line2d_9\">\n      <g>\n       <use style=\"stroke:#000000;stroke-width:0.8;\" x=\"26.925\" xlink:href=\"#mc6a6b298ac\" y=\"88.74\"/>\n      </g>\n     </g>\n     <g id=\"text_9\">\n      <!-- 10 -->\n      <g transform=\"translate(7.2 92.539219)scale(0.1 -0.1)\">\n       <use xlink:href=\"#DejaVuSans-49\"/>\n       <use x=\"63.623047\" xlink:href=\"#DejaVuSans-48\"/>\n      </g>\n     </g>\n    </g>\n    <g id=\"ytick_4\">\n     <g id=\"line2d_10\">\n      <g>\n       <use style=\"stroke:#000000;stroke-width:0.8;\" x=\"26.925\" xlink:href=\"#mc6a6b298ac\" y=\"127.568571\"/>\n      </g>\n     </g>\n     <g id=\"text_10\">\n      <!-- 15 -->\n      <g transform=\"translate(7.2 131.36779)scale(0.1 -0.1)\">\n       <use xlink:href=\"#DejaVuSans-49\"/>\n       <use x=\"63.623047\" xlink:href=\"#DejaVuSans-53\"/>\n      </g>\n     </g>\n    </g>\n    <g id=\"ytick_5\">\n     <g id=\"line2d_11\">\n      <g>\n       <use style=\"stroke:#000000;stroke-width:0.8;\" x=\"26.925\" xlink:href=\"#mc6a6b298ac\" y=\"166.397143\"/>\n      </g>\n     </g>\n     <g id=\"text_11\">\n      <!-- 20 -->\n      <g transform=\"translate(7.2 170.196362)scale(0.1 -0.1)\">\n       <use xlink:href=\"#DejaVuSans-50\"/>\n       <use x=\"63.623047\" xlink:href=\"#DejaVuSans-48\"/>\n      </g>\n     </g>\n    </g>\n    <g id=\"ytick_6\">\n     <g id=\"line2d_12\">\n      <g>\n       <use style=\"stroke:#000000;stroke-width:0.8;\" x=\"26.925\" xlink:href=\"#mc6a6b298ac\" y=\"205.225714\"/>\n      </g>\n     </g>\n     <g id=\"text_12\">\n      <!-- 25 -->\n      <g transform=\"translate(7.2 209.024933)scale(0.1 -0.1)\">\n       <use xlink:href=\"#DejaVuSans-50\"/>\n       <use x=\"63.623047\" xlink:href=\"#DejaVuSans-53\"/>\n      </g>\n     </g>\n    </g>\n   </g>\n   <g id=\"patch_3\">\n    <path d=\"M 26.925 224.64 \nL 26.925 7.2 \n\" style=\"fill:none;stroke:#000000;stroke-linecap:square;stroke-linejoin:miter;stroke-width:0.8;\"/>\n   </g>\n   <g id=\"patch_4\">\n    <path d=\"M 244.365 224.64 \nL 244.365 7.2 \n\" style=\"fill:none;stroke:#000000;stroke-linecap:square;stroke-linejoin:miter;stroke-width:0.8;\"/>\n   </g>\n   <g id=\"patch_5\">\n    <path d=\"M 26.925 224.64 \nL 244.365 224.64 \n\" style=\"fill:none;stroke:#000000;stroke-linecap:square;stroke-linejoin:miter;stroke-width:0.8;\"/>\n   </g>\n   <g id=\"patch_6\">\n    <path d=\"M 26.925 7.2 \nL 244.365 7.2 \n\" style=\"fill:none;stroke:#000000;stroke-linecap:square;stroke-linejoin:miter;stroke-width:0.8;\"/>\n   </g>\n  </g>\n </g>\n <defs>\n  <clipPath id=\"p97c6d3e671\">\n   <rect height=\"217.44\" width=\"217.44\" x=\"26.925\" y=\"7.2\"/>\n  </clipPath>\n </defs>\n</svg>\n"
          },
          "metadata": {
            "needs_background": "light"
          }
        }
      ]
    },
    {
      "cell_type": "code",
      "source": [
        "img, label = test[200]\n",
        "plt.imshow(img[0], cmap='gray')\n",
        "print(\"Label is: \" + labels_map[label], ', Predicted:', labels_map[predict_image(img, model)])"
      ],
      "metadata": {
        "colab": {
          "base_uri": "https://localhost:8080/",
          "height": 370
        },
        "id": "GOvm1lxCqg86",
        "outputId": "14c0cbba-1d5c-4026-f37a-130a64a9050a"
      },
      "execution_count": 149,
      "outputs": [
        {
          "output_type": "stream",
          "name": "stdout",
          "text": [
            "Label is: T-Shirt , Predicted: T-Shirt\n"
          ]
        },
        {
          "output_type": "display_data",
          "data": {
            "text/plain": [
              "<Figure size 432x288 with 1 Axes>"
            ],
            "image/svg+xml": "<?xml version=\"1.0\" encoding=\"utf-8\" standalone=\"no\"?>\n<!DOCTYPE svg PUBLIC \"-//W3C//DTD SVG 1.1//EN\"\n  \"http://www.w3.org/Graphics/SVG/1.1/DTD/svg11.dtd\">\n<!-- Created with matplotlib (https://matplotlib.org/) -->\n<svg height=\"248.518125pt\" version=\"1.1\" viewBox=\"0 0 251.565 248.518125\" width=\"251.565pt\" xmlns=\"http://www.w3.org/2000/svg\" xmlns:xlink=\"http://www.w3.org/1999/xlink\">\n <defs>\n  <style type=\"text/css\">\n*{stroke-linecap:butt;stroke-linejoin:round;}\n  </style>\n </defs>\n <g id=\"figure_1\">\n  <g id=\"patch_1\">\n   <path d=\"M 0 248.518125 \nL 251.565 248.518125 \nL 251.565 0 \nL 0 0 \nz\n\" style=\"fill:none;\"/>\n  </g>\n  <g id=\"axes_1\">\n   <g id=\"patch_2\">\n    <path d=\"M 26.925 224.64 \nL 244.365 224.64 \nL 244.365 7.2 \nL 26.925 7.2 \nz\n\" style=\"fill:#ffffff;\"/>\n   </g>\n   <g clip-path=\"url(#pcea70f96ff)\">\n    <image height=\"218\" id=\"imagec5c5954ef3\" transform=\"scale(1 -1)translate(0 -218)\" width=\"218\" x=\"26.925\" xlink:href=\"data:image/png;base64,\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\" y=\"-6.64\"/>\n   </g>\n   <g id=\"matplotlib.axis_1\">\n    <g id=\"xtick_1\">\n     <g id=\"line2d_1\">\n      <defs>\n       <path d=\"M 0 0 \nL 0 3.5 \n\" id=\"m7808c0b69b\" style=\"stroke:#000000;stroke-width:0.8;\"/>\n      </defs>\n      <g>\n       <use style=\"stroke:#000000;stroke-width:0.8;\" x=\"30.807857\" xlink:href=\"#m7808c0b69b\" y=\"224.64\"/>\n      </g>\n     </g>\n     <g id=\"text_1\">\n      <!-- 0 -->\n      <defs>\n       <path d=\"M 31.78125 66.40625 \nQ 24.171875 66.40625 20.328125 58.90625 \nQ 16.5 51.421875 16.5 36.375 \nQ 16.5 21.390625 20.328125 13.890625 \nQ 24.171875 6.390625 31.78125 6.390625 \nQ 39.453125 6.390625 43.28125 13.890625 \nQ 47.125 21.390625 47.125 36.375 \nQ 47.125 51.421875 43.28125 58.90625 \nQ 39.453125 66.40625 31.78125 66.40625 \nz\nM 31.78125 74.21875 \nQ 44.046875 74.21875 50.515625 64.515625 \nQ 56.984375 54.828125 56.984375 36.375 \nQ 56.984375 17.96875 50.515625 8.265625 \nQ 44.046875 -1.421875 31.78125 -1.421875 \nQ 19.53125 -1.421875 13.0625 8.265625 \nQ 6.59375 17.96875 6.59375 36.375 \nQ 6.59375 54.828125 13.0625 64.515625 \nQ 19.53125 74.21875 31.78125 74.21875 \nz\n\" id=\"DejaVuSans-48\"/>\n      </defs>\n      <g transform=\"translate(27.626607 239.238437)scale(0.1 -0.1)\">\n       <use xlink:href=\"#DejaVuSans-48\"/>\n      </g>\n     </g>\n    </g>\n    <g id=\"xtick_2\">\n     <g id=\"line2d_2\">\n      <g>\n       <use style=\"stroke:#000000;stroke-width:0.8;\" x=\"69.636429\" xlink:href=\"#m7808c0b69b\" y=\"224.64\"/>\n      </g>\n     </g>\n     <g id=\"text_2\">\n      <!-- 5 -->\n      <defs>\n       <path d=\"M 10.796875 72.90625 \nL 49.515625 72.90625 \nL 49.515625 64.59375 \nL 19.828125 64.59375 \nL 19.828125 46.734375 \nQ 21.96875 47.46875 24.109375 47.828125 \nQ 26.265625 48.1875 28.421875 48.1875 \nQ 40.625 48.1875 47.75 41.5 \nQ 54.890625 34.8125 54.890625 23.390625 \nQ 54.890625 11.625 47.5625 5.09375 \nQ 40.234375 -1.421875 26.90625 -1.421875 \nQ 22.3125 -1.421875 17.546875 -0.640625 \nQ 12.796875 0.140625 7.71875 1.703125 \nL 7.71875 11.625 \nQ 12.109375 9.234375 16.796875 8.0625 \nQ 21.484375 6.890625 26.703125 6.890625 \nQ 35.15625 6.890625 40.078125 11.328125 \nQ 45.015625 15.765625 45.015625 23.390625 \nQ 45.015625 31 40.078125 35.4375 \nQ 35.15625 39.890625 26.703125 39.890625 \nQ 22.75 39.890625 18.8125 39.015625 \nQ 14.890625 38.140625 10.796875 36.28125 \nz\n\" id=\"DejaVuSans-53\"/>\n      </defs>\n      <g transform=\"translate(66.455179 239.238437)scale(0.1 -0.1)\">\n       <use xlink:href=\"#DejaVuSans-53\"/>\n      </g>\n     </g>\n    </g>\n    <g id=\"xtick_3\">\n     <g id=\"line2d_3\">\n      <g>\n       <use style=\"stroke:#000000;stroke-width:0.8;\" x=\"108.465\" xlink:href=\"#m7808c0b69b\" y=\"224.64\"/>\n      </g>\n     </g>\n     <g id=\"text_3\">\n      <!-- 10 -->\n      <defs>\n       <path d=\"M 12.40625 8.296875 \nL 28.515625 8.296875 \nL 28.515625 63.921875 \nL 10.984375 60.40625 \nL 10.984375 69.390625 \nL 28.421875 72.90625 \nL 38.28125 72.90625 \nL 38.28125 8.296875 \nL 54.390625 8.296875 \nL 54.390625 0 \nL 12.40625 0 \nz\n\" id=\"DejaVuSans-49\"/>\n      </defs>\n      <g transform=\"translate(102.1025 239.238437)scale(0.1 -0.1)\">\n       <use xlink:href=\"#DejaVuSans-49\"/>\n       <use x=\"63.623047\" xlink:href=\"#DejaVuSans-48\"/>\n      </g>\n     </g>\n    </g>\n    <g id=\"xtick_4\">\n     <g id=\"line2d_4\">\n      <g>\n       <use style=\"stroke:#000000;stroke-width:0.8;\" x=\"147.293571\" xlink:href=\"#m7808c0b69b\" y=\"224.64\"/>\n      </g>\n     </g>\n     <g id=\"text_4\">\n      <!-- 15 -->\n      <g transform=\"translate(140.931071 239.238437)scale(0.1 -0.1)\">\n       <use xlink:href=\"#DejaVuSans-49\"/>\n       <use x=\"63.623047\" xlink:href=\"#DejaVuSans-53\"/>\n      </g>\n     </g>\n    </g>\n    <g id=\"xtick_5\">\n     <g id=\"line2d_5\">\n      <g>\n       <use style=\"stroke:#000000;stroke-width:0.8;\" x=\"186.122143\" xlink:href=\"#m7808c0b69b\" y=\"224.64\"/>\n      </g>\n     </g>\n     <g id=\"text_5\">\n      <!-- 20 -->\n      <defs>\n       <path d=\"M 19.1875 8.296875 \nL 53.609375 8.296875 \nL 53.609375 0 \nL 7.328125 0 \nL 7.328125 8.296875 \nQ 12.9375 14.109375 22.625 23.890625 \nQ 32.328125 33.6875 34.8125 36.53125 \nQ 39.546875 41.84375 41.421875 45.53125 \nQ 43.3125 49.21875 43.3125 52.78125 \nQ 43.3125 58.59375 39.234375 62.25 \nQ 35.15625 65.921875 28.609375 65.921875 \nQ 23.96875 65.921875 18.8125 64.3125 \nQ 13.671875 62.703125 7.8125 59.421875 \nL 7.8125 69.390625 \nQ 13.765625 71.78125 18.9375 73 \nQ 24.125 74.21875 28.421875 74.21875 \nQ 39.75 74.21875 46.484375 68.546875 \nQ 53.21875 62.890625 53.21875 53.421875 \nQ 53.21875 48.921875 51.53125 44.890625 \nQ 49.859375 40.875 45.40625 35.40625 \nQ 44.1875 33.984375 37.640625 27.21875 \nQ 31.109375 20.453125 19.1875 8.296875 \nz\n\" id=\"DejaVuSans-50\"/>\n      </defs>\n      <g transform=\"translate(179.759643 239.238437)scale(0.1 -0.1)\">\n       <use xlink:href=\"#DejaVuSans-50\"/>\n       <use x=\"63.623047\" xlink:href=\"#DejaVuSans-48\"/>\n      </g>\n     </g>\n    </g>\n    <g id=\"xtick_6\">\n     <g id=\"line2d_6\">\n      <g>\n       <use style=\"stroke:#000000;stroke-width:0.8;\" x=\"224.950714\" xlink:href=\"#m7808c0b69b\" y=\"224.64\"/>\n      </g>\n     </g>\n     <g id=\"text_6\">\n      <!-- 25 -->\n      <g transform=\"translate(218.588214 239.238437)scale(0.1 -0.1)\">\n       <use xlink:href=\"#DejaVuSans-50\"/>\n       <use x=\"63.623047\" xlink:href=\"#DejaVuSans-53\"/>\n      </g>\n     </g>\n    </g>\n   </g>\n   <g id=\"matplotlib.axis_2\">\n    <g id=\"ytick_1\">\n     <g id=\"line2d_7\">\n      <defs>\n       <path d=\"M 0 0 \nL -3.5 0 \n\" id=\"m8e4f28d8a2\" style=\"stroke:#000000;stroke-width:0.8;\"/>\n      </defs>\n      <g>\n       <use style=\"stroke:#000000;stroke-width:0.8;\" x=\"26.925\" xlink:href=\"#m8e4f28d8a2\" y=\"11.082857\"/>\n      </g>\n     </g>\n     <g id=\"text_7\">\n      <!-- 0 -->\n      <g transform=\"translate(13.5625 14.882076)scale(0.1 -0.1)\">\n       <use xlink:href=\"#DejaVuSans-48\"/>\n      </g>\n     </g>\n    </g>\n    <g id=\"ytick_2\">\n     <g id=\"line2d_8\">\n      <g>\n       <use style=\"stroke:#000000;stroke-width:0.8;\" x=\"26.925\" xlink:href=\"#m8e4f28d8a2\" y=\"49.911429\"/>\n      </g>\n     </g>\n     <g id=\"text_8\">\n      <!-- 5 -->\n      <g transform=\"translate(13.5625 53.710647)scale(0.1 -0.1)\">\n       <use xlink:href=\"#DejaVuSans-53\"/>\n      </g>\n     </g>\n    </g>\n    <g id=\"ytick_3\">\n     <g id=\"line2d_9\">\n      <g>\n       <use style=\"stroke:#000000;stroke-width:0.8;\" x=\"26.925\" xlink:href=\"#m8e4f28d8a2\" y=\"88.74\"/>\n      </g>\n     </g>\n     <g id=\"text_9\">\n      <!-- 10 -->\n      <g transform=\"translate(7.2 92.539219)scale(0.1 -0.1)\">\n       <use xlink:href=\"#DejaVuSans-49\"/>\n       <use x=\"63.623047\" xlink:href=\"#DejaVuSans-48\"/>\n      </g>\n     </g>\n    </g>\n    <g id=\"ytick_4\">\n     <g id=\"line2d_10\">\n      <g>\n       <use style=\"stroke:#000000;stroke-width:0.8;\" x=\"26.925\" xlink:href=\"#m8e4f28d8a2\" y=\"127.568571\"/>\n      </g>\n     </g>\n     <g id=\"text_10\">\n      <!-- 15 -->\n      <g transform=\"translate(7.2 131.36779)scale(0.1 -0.1)\">\n       <use xlink:href=\"#DejaVuSans-49\"/>\n       <use x=\"63.623047\" xlink:href=\"#DejaVuSans-53\"/>\n      </g>\n     </g>\n    </g>\n    <g id=\"ytick_5\">\n     <g id=\"line2d_11\">\n      <g>\n       <use style=\"stroke:#000000;stroke-width:0.8;\" x=\"26.925\" xlink:href=\"#m8e4f28d8a2\" y=\"166.397143\"/>\n      </g>\n     </g>\n     <g id=\"text_11\">\n      <!-- 20 -->\n      <g transform=\"translate(7.2 170.196362)scale(0.1 -0.1)\">\n       <use xlink:href=\"#DejaVuSans-50\"/>\n       <use x=\"63.623047\" xlink:href=\"#DejaVuSans-48\"/>\n      </g>\n     </g>\n    </g>\n    <g id=\"ytick_6\">\n     <g id=\"line2d_12\">\n      <g>\n       <use style=\"stroke:#000000;stroke-width:0.8;\" x=\"26.925\" xlink:href=\"#m8e4f28d8a2\" y=\"205.225714\"/>\n      </g>\n     </g>\n     <g id=\"text_12\">\n      <!-- 25 -->\n      <g transform=\"translate(7.2 209.024933)scale(0.1 -0.1)\">\n       <use xlink:href=\"#DejaVuSans-50\"/>\n       <use x=\"63.623047\" xlink:href=\"#DejaVuSans-53\"/>\n      </g>\n     </g>\n    </g>\n   </g>\n   <g id=\"patch_3\">\n    <path d=\"M 26.925 224.64 \nL 26.925 7.2 \n\" style=\"fill:none;stroke:#000000;stroke-linecap:square;stroke-linejoin:miter;stroke-width:0.8;\"/>\n   </g>\n   <g id=\"patch_4\">\n    <path d=\"M 244.365 224.64 \nL 244.365 7.2 \n\" style=\"fill:none;stroke:#000000;stroke-linecap:square;stroke-linejoin:miter;stroke-width:0.8;\"/>\n   </g>\n   <g id=\"patch_5\">\n    <path d=\"M 26.925 224.64 \nL 244.365 224.64 \n\" style=\"fill:none;stroke:#000000;stroke-linecap:square;stroke-linejoin:miter;stroke-width:0.8;\"/>\n   </g>\n   <g id=\"patch_6\">\n    <path d=\"M 26.925 7.2 \nL 244.365 7.2 \n\" style=\"fill:none;stroke:#000000;stroke-linecap:square;stroke-linejoin:miter;stroke-width:0.8;\"/>\n   </g>\n  </g>\n </g>\n <defs>\n  <clipPath id=\"pcea70f96ff\">\n   <rect height=\"217.44\" width=\"217.44\" x=\"26.925\" y=\"7.2\"/>\n  </clipPath>\n </defs>\n</svg>\n"
          },
          "metadata": {
            "needs_background": "light"
          }
        }
      ]
    },
    {
      "cell_type": "code",
      "source": [
        "!rm -R /root/images/.ipynb_checkpoints\n",
        "!ls root/images/ -a  "
      ],
      "metadata": {
        "id": "M_lkogkPIbDT"
      },
      "execution_count": null,
      "outputs": []
    },
    {
      "cell_type": "code",
      "source": [
        "examples = torchvision.datasets.ImageFolder(root='/root/images', transform=transform_examples)"
      ],
      "metadata": {
        "id": "mTV9TbAYqpqH"
      },
      "execution_count": 170,
      "outputs": []
    },
    {
      "cell_type": "code",
      "source": [
        "examples[0][0].shape"
      ],
      "metadata": {
        "colab": {
          "base_uri": "https://localhost:8080/"
        },
        "id": "oi_4FIWoI9Gs",
        "outputId": "f3d22c8e-903d-4a5d-c0b9-0f27d33dd8ba"
      },
      "execution_count": 158,
      "outputs": [
        {
          "output_type": "execute_result",
          "data": {
            "text/plain": [
              "torch.Size([1, 28, 28])"
            ]
          },
          "metadata": {},
          "execution_count": 158
        }
      ]
    },
    {
      "cell_type": "code",
      "source": [
        "img = examples[1][0]\n",
        "plt.imshow(img[0], cmap='gray')\n",
        "print(', Predicted:', labels_map[predict_image(img, model)])"
      ],
      "metadata": {
        "colab": {
          "base_uri": "https://localhost:8080/",
          "height": 370
        },
        "id": "LgJ0UreDJDba",
        "outputId": "638556aa-79d7-4321-99bb-4116344838a4"
      },
      "execution_count": 171,
      "outputs": [
        {
          "output_type": "stream",
          "name": "stdout",
          "text": [
            ", Predicted: Bag\n"
          ]
        },
        {
          "output_type": "display_data",
          "data": {
            "text/plain": [
              "<Figure size 432x288 with 1 Axes>"
            ],
            "image/svg+xml": "<?xml version=\"1.0\" encoding=\"utf-8\" standalone=\"no\"?>\n<!DOCTYPE svg PUBLIC \"-//W3C//DTD SVG 1.1//EN\"\n  \"http://www.w3.org/Graphics/SVG/1.1/DTD/svg11.dtd\">\n<!-- Created with matplotlib (https://matplotlib.org/) -->\n<svg height=\"248.518125pt\" version=\"1.1\" viewBox=\"0 0 251.565 248.518125\" width=\"251.565pt\" xmlns=\"http://www.w3.org/2000/svg\" xmlns:xlink=\"http://www.w3.org/1999/xlink\">\n <defs>\n  <style type=\"text/css\">\n*{stroke-linecap:butt;stroke-linejoin:round;}\n  </style>\n </defs>\n <g id=\"figure_1\">\n  <g id=\"patch_1\">\n   <path d=\"M 0 248.518125 \nL 251.565 248.518125 \nL 251.565 0 \nL 0 0 \nz\n\" style=\"fill:none;\"/>\n  </g>\n  <g id=\"axes_1\">\n   <g id=\"patch_2\">\n    <path d=\"M 26.925 224.64 \nL 244.365 224.64 \nL 244.365 7.2 \nL 26.925 7.2 \nz\n\" style=\"fill:#ffffff;\"/>\n   </g>\n   <g clip-path=\"url(#pe4c5fac6e6)\">\n    <image height=\"218\" id=\"image7a66bad860\" transform=\"scale(1 -1)translate(0 -218)\" width=\"218\" x=\"26.925\" xlink:href=\"data:image/png;base64,\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\" y=\"-6.64\"/>\n   </g>\n   <g id=\"matplotlib.axis_1\">\n    <g id=\"xtick_1\">\n     <g id=\"line2d_1\">\n      <defs>\n       <path d=\"M 0 0 \nL 0 3.5 \n\" id=\"m7ff53e15c6\" style=\"stroke:#000000;stroke-width:0.8;\"/>\n      </defs>\n      <g>\n       <use style=\"stroke:#000000;stroke-width:0.8;\" x=\"30.807857\" xlink:href=\"#m7ff53e15c6\" y=\"224.64\"/>\n      </g>\n     </g>\n     <g id=\"text_1\">\n      <!-- 0 -->\n      <defs>\n       <path d=\"M 31.78125 66.40625 \nQ 24.171875 66.40625 20.328125 58.90625 \nQ 16.5 51.421875 16.5 36.375 \nQ 16.5 21.390625 20.328125 13.890625 \nQ 24.171875 6.390625 31.78125 6.390625 \nQ 39.453125 6.390625 43.28125 13.890625 \nQ 47.125 21.390625 47.125 36.375 \nQ 47.125 51.421875 43.28125 58.90625 \nQ 39.453125 66.40625 31.78125 66.40625 \nz\nM 31.78125 74.21875 \nQ 44.046875 74.21875 50.515625 64.515625 \nQ 56.984375 54.828125 56.984375 36.375 \nQ 56.984375 17.96875 50.515625 8.265625 \nQ 44.046875 -1.421875 31.78125 -1.421875 \nQ 19.53125 -1.421875 13.0625 8.265625 \nQ 6.59375 17.96875 6.59375 36.375 \nQ 6.59375 54.828125 13.0625 64.515625 \nQ 19.53125 74.21875 31.78125 74.21875 \nz\n\" id=\"DejaVuSans-48\"/>\n      </defs>\n      <g transform=\"translate(27.626607 239.238437)scale(0.1 -0.1)\">\n       <use xlink:href=\"#DejaVuSans-48\"/>\n      </g>\n     </g>\n    </g>\n    <g id=\"xtick_2\">\n     <g id=\"line2d_2\">\n      <g>\n       <use style=\"stroke:#000000;stroke-width:0.8;\" x=\"69.636429\" xlink:href=\"#m7ff53e15c6\" y=\"224.64\"/>\n      </g>\n     </g>\n     <g id=\"text_2\">\n      <!-- 5 -->\n      <defs>\n       <path d=\"M 10.796875 72.90625 \nL 49.515625 72.90625 \nL 49.515625 64.59375 \nL 19.828125 64.59375 \nL 19.828125 46.734375 \nQ 21.96875 47.46875 24.109375 47.828125 \nQ 26.265625 48.1875 28.421875 48.1875 \nQ 40.625 48.1875 47.75 41.5 \nQ 54.890625 34.8125 54.890625 23.390625 \nQ 54.890625 11.625 47.5625 5.09375 \nQ 40.234375 -1.421875 26.90625 -1.421875 \nQ 22.3125 -1.421875 17.546875 -0.640625 \nQ 12.796875 0.140625 7.71875 1.703125 \nL 7.71875 11.625 \nQ 12.109375 9.234375 16.796875 8.0625 \nQ 21.484375 6.890625 26.703125 6.890625 \nQ 35.15625 6.890625 40.078125 11.328125 \nQ 45.015625 15.765625 45.015625 23.390625 \nQ 45.015625 31 40.078125 35.4375 \nQ 35.15625 39.890625 26.703125 39.890625 \nQ 22.75 39.890625 18.8125 39.015625 \nQ 14.890625 38.140625 10.796875 36.28125 \nz\n\" id=\"DejaVuSans-53\"/>\n      </defs>\n      <g transform=\"translate(66.455179 239.238437)scale(0.1 -0.1)\">\n       <use xlink:href=\"#DejaVuSans-53\"/>\n      </g>\n     </g>\n    </g>\n    <g id=\"xtick_3\">\n     <g id=\"line2d_3\">\n      <g>\n       <use style=\"stroke:#000000;stroke-width:0.8;\" x=\"108.465\" xlink:href=\"#m7ff53e15c6\" y=\"224.64\"/>\n      </g>\n     </g>\n     <g id=\"text_3\">\n      <!-- 10 -->\n      <defs>\n       <path d=\"M 12.40625 8.296875 \nL 28.515625 8.296875 \nL 28.515625 63.921875 \nL 10.984375 60.40625 \nL 10.984375 69.390625 \nL 28.421875 72.90625 \nL 38.28125 72.90625 \nL 38.28125 8.296875 \nL 54.390625 8.296875 \nL 54.390625 0 \nL 12.40625 0 \nz\n\" id=\"DejaVuSans-49\"/>\n      </defs>\n      <g transform=\"translate(102.1025 239.238437)scale(0.1 -0.1)\">\n       <use xlink:href=\"#DejaVuSans-49\"/>\n       <use x=\"63.623047\" xlink:href=\"#DejaVuSans-48\"/>\n      </g>\n     </g>\n    </g>\n    <g id=\"xtick_4\">\n     <g id=\"line2d_4\">\n      <g>\n       <use style=\"stroke:#000000;stroke-width:0.8;\" x=\"147.293571\" xlink:href=\"#m7ff53e15c6\" y=\"224.64\"/>\n      </g>\n     </g>\n     <g id=\"text_4\">\n      <!-- 15 -->\n      <g transform=\"translate(140.931071 239.238437)scale(0.1 -0.1)\">\n       <use xlink:href=\"#DejaVuSans-49\"/>\n       <use x=\"63.623047\" xlink:href=\"#DejaVuSans-53\"/>\n      </g>\n     </g>\n    </g>\n    <g id=\"xtick_5\">\n     <g id=\"line2d_5\">\n      <g>\n       <use style=\"stroke:#000000;stroke-width:0.8;\" x=\"186.122143\" xlink:href=\"#m7ff53e15c6\" y=\"224.64\"/>\n      </g>\n     </g>\n     <g id=\"text_5\">\n      <!-- 20 -->\n      <defs>\n       <path d=\"M 19.1875 8.296875 \nL 53.609375 8.296875 \nL 53.609375 0 \nL 7.328125 0 \nL 7.328125 8.296875 \nQ 12.9375 14.109375 22.625 23.890625 \nQ 32.328125 33.6875 34.8125 36.53125 \nQ 39.546875 41.84375 41.421875 45.53125 \nQ 43.3125 49.21875 43.3125 52.78125 \nQ 43.3125 58.59375 39.234375 62.25 \nQ 35.15625 65.921875 28.609375 65.921875 \nQ 23.96875 65.921875 18.8125 64.3125 \nQ 13.671875 62.703125 7.8125 59.421875 \nL 7.8125 69.390625 \nQ 13.765625 71.78125 18.9375 73 \nQ 24.125 74.21875 28.421875 74.21875 \nQ 39.75 74.21875 46.484375 68.546875 \nQ 53.21875 62.890625 53.21875 53.421875 \nQ 53.21875 48.921875 51.53125 44.890625 \nQ 49.859375 40.875 45.40625 35.40625 \nQ 44.1875 33.984375 37.640625 27.21875 \nQ 31.109375 20.453125 19.1875 8.296875 \nz\n\" id=\"DejaVuSans-50\"/>\n      </defs>\n      <g transform=\"translate(179.759643 239.238437)scale(0.1 -0.1)\">\n       <use xlink:href=\"#DejaVuSans-50\"/>\n       <use x=\"63.623047\" xlink:href=\"#DejaVuSans-48\"/>\n      </g>\n     </g>\n    </g>\n    <g id=\"xtick_6\">\n     <g id=\"line2d_6\">\n      <g>\n       <use style=\"stroke:#000000;stroke-width:0.8;\" x=\"224.950714\" xlink:href=\"#m7ff53e15c6\" y=\"224.64\"/>\n      </g>\n     </g>\n     <g id=\"text_6\">\n      <!-- 25 -->\n      <g transform=\"translate(218.588214 239.238437)scale(0.1 -0.1)\">\n       <use xlink:href=\"#DejaVuSans-50\"/>\n       <use x=\"63.623047\" xlink:href=\"#DejaVuSans-53\"/>\n      </g>\n     </g>\n    </g>\n   </g>\n   <g id=\"matplotlib.axis_2\">\n    <g id=\"ytick_1\">\n     <g id=\"line2d_7\">\n      <defs>\n       <path d=\"M 0 0 \nL -3.5 0 \n\" id=\"m942c5cf2ac\" style=\"stroke:#000000;stroke-width:0.8;\"/>\n      </defs>\n      <g>\n       <use style=\"stroke:#000000;stroke-width:0.8;\" x=\"26.925\" xlink:href=\"#m942c5cf2ac\" y=\"11.082857\"/>\n      </g>\n     </g>\n     <g id=\"text_7\">\n      <!-- 0 -->\n      <g transform=\"translate(13.5625 14.882076)scale(0.1 -0.1)\">\n       <use xlink:href=\"#DejaVuSans-48\"/>\n      </g>\n     </g>\n    </g>\n    <g id=\"ytick_2\">\n     <g id=\"line2d_8\">\n      <g>\n       <use style=\"stroke:#000000;stroke-width:0.8;\" x=\"26.925\" xlink:href=\"#m942c5cf2ac\" y=\"49.911429\"/>\n      </g>\n     </g>\n     <g id=\"text_8\">\n      <!-- 5 -->\n      <g transform=\"translate(13.5625 53.710647)scale(0.1 -0.1)\">\n       <use xlink:href=\"#DejaVuSans-53\"/>\n      </g>\n     </g>\n    </g>\n    <g id=\"ytick_3\">\n     <g id=\"line2d_9\">\n      <g>\n       <use style=\"stroke:#000000;stroke-width:0.8;\" x=\"26.925\" xlink:href=\"#m942c5cf2ac\" y=\"88.74\"/>\n      </g>\n     </g>\n     <g id=\"text_9\">\n      <!-- 10 -->\n      <g transform=\"translate(7.2 92.539219)scale(0.1 -0.1)\">\n       <use xlink:href=\"#DejaVuSans-49\"/>\n       <use x=\"63.623047\" xlink:href=\"#DejaVuSans-48\"/>\n      </g>\n     </g>\n    </g>\n    <g id=\"ytick_4\">\n     <g id=\"line2d_10\">\n      <g>\n       <use style=\"stroke:#000000;stroke-width:0.8;\" x=\"26.925\" xlink:href=\"#m942c5cf2ac\" y=\"127.568571\"/>\n      </g>\n     </g>\n     <g id=\"text_10\">\n      <!-- 15 -->\n      <g transform=\"translate(7.2 131.36779)scale(0.1 -0.1)\">\n       <use xlink:href=\"#DejaVuSans-49\"/>\n       <use x=\"63.623047\" xlink:href=\"#DejaVuSans-53\"/>\n      </g>\n     </g>\n    </g>\n    <g id=\"ytick_5\">\n     <g id=\"line2d_11\">\n      <g>\n       <use style=\"stroke:#000000;stroke-width:0.8;\" x=\"26.925\" xlink:href=\"#m942c5cf2ac\" y=\"166.397143\"/>\n      </g>\n     </g>\n     <g id=\"text_11\">\n      <!-- 20 -->\n      <g transform=\"translate(7.2 170.196362)scale(0.1 -0.1)\">\n       <use xlink:href=\"#DejaVuSans-50\"/>\n       <use x=\"63.623047\" xlink:href=\"#DejaVuSans-48\"/>\n      </g>\n     </g>\n    </g>\n    <g id=\"ytick_6\">\n     <g id=\"line2d_12\">\n      <g>\n       <use style=\"stroke:#000000;stroke-width:0.8;\" x=\"26.925\" xlink:href=\"#m942c5cf2ac\" y=\"205.225714\"/>\n      </g>\n     </g>\n     <g id=\"text_12\">\n      <!-- 25 -->\n      <g transform=\"translate(7.2 209.024933)scale(0.1 -0.1)\">\n       <use xlink:href=\"#DejaVuSans-50\"/>\n       <use x=\"63.623047\" xlink:href=\"#DejaVuSans-53\"/>\n      </g>\n     </g>\n    </g>\n   </g>\n   <g id=\"patch_3\">\n    <path d=\"M 26.925 224.64 \nL 26.925 7.2 \n\" style=\"fill:none;stroke:#000000;stroke-linecap:square;stroke-linejoin:miter;stroke-width:0.8;\"/>\n   </g>\n   <g id=\"patch_4\">\n    <path d=\"M 244.365 224.64 \nL 244.365 7.2 \n\" style=\"fill:none;stroke:#000000;stroke-linecap:square;stroke-linejoin:miter;stroke-width:0.8;\"/>\n   </g>\n   <g id=\"patch_5\">\n    <path d=\"M 26.925 224.64 \nL 244.365 224.64 \n\" style=\"fill:none;stroke:#000000;stroke-linecap:square;stroke-linejoin:miter;stroke-width:0.8;\"/>\n   </g>\n   <g id=\"patch_6\">\n    <path d=\"M 26.925 7.2 \nL 244.365 7.2 \n\" style=\"fill:none;stroke:#000000;stroke-linecap:square;stroke-linejoin:miter;stroke-width:0.8;\"/>\n   </g>\n  </g>\n </g>\n <defs>\n  <clipPath id=\"pe4c5fac6e6\">\n   <rect height=\"217.44\" width=\"217.44\" x=\"26.925\" y=\"7.2\"/>\n  </clipPath>\n </defs>\n</svg>\n"
          },
          "metadata": {
            "needs_background": "light"
          }
        }
      ]
    },
    {
      "cell_type": "code",
      "source": [
        "img = examples[5][0]\n",
        "plt.imshow(img[0], cmap='gray')\n",
        "print(', Predicted:', labels_map[predict_image(img, model)])"
      ],
      "metadata": {
        "colab": {
          "base_uri": "https://localhost:8080/",
          "height": 370
        },
        "id": "XpRKHyXBV-SL",
        "outputId": "dd63ed88-e785-4588-9667-ae7cfa3d03ba"
      },
      "execution_count": 179,
      "outputs": [
        {
          "output_type": "stream",
          "name": "stdout",
          "text": [
            ", Predicted: Bag\n"
          ]
        },
        {
          "output_type": "display_data",
          "data": {
            "text/plain": [
              "<Figure size 432x288 with 1 Axes>"
            ],
            "image/svg+xml": "<?xml version=\"1.0\" encoding=\"utf-8\" standalone=\"no\"?>\n<!DOCTYPE svg PUBLIC \"-//W3C//DTD SVG 1.1//EN\"\n  \"http://www.w3.org/Graphics/SVG/1.1/DTD/svg11.dtd\">\n<!-- Created with matplotlib (https://matplotlib.org/) -->\n<svg height=\"248.518125pt\" version=\"1.1\" viewBox=\"0 0 251.565 248.518125\" width=\"251.565pt\" xmlns=\"http://www.w3.org/2000/svg\" xmlns:xlink=\"http://www.w3.org/1999/xlink\">\n <defs>\n  <style type=\"text/css\">\n*{stroke-linecap:butt;stroke-linejoin:round;}\n  </style>\n </defs>\n <g id=\"figure_1\">\n  <g id=\"patch_1\">\n   <path d=\"M 0 248.518125 \nL 251.565 248.518125 \nL 251.565 0 \nL 0 0 \nz\n\" style=\"fill:none;\"/>\n  </g>\n  <g id=\"axes_1\">\n   <g id=\"patch_2\">\n    <path d=\"M 26.925 224.64 \nL 244.365 224.64 \nL 244.365 7.2 \nL 26.925 7.2 \nz\n\" style=\"fill:#ffffff;\"/>\n   </g>\n   <g clip-path=\"url(#p5f152f9d19)\">\n    <image height=\"218\" id=\"image182093a78b\" transform=\"scale(1 -1)translate(0 -218)\" width=\"218\" x=\"26.925\" xlink:href=\"data:image/png;base64,\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\" y=\"-6.64\"/>\n   </g>\n   <g id=\"matplotlib.axis_1\">\n    <g id=\"xtick_1\">\n     <g id=\"line2d_1\">\n      <defs>\n       <path d=\"M 0 0 \nL 0 3.5 \n\" id=\"maff49afdc5\" style=\"stroke:#000000;stroke-width:0.8;\"/>\n      </defs>\n      <g>\n       <use style=\"stroke:#000000;stroke-width:0.8;\" x=\"30.807857\" xlink:href=\"#maff49afdc5\" y=\"224.64\"/>\n      </g>\n     </g>\n     <g id=\"text_1\">\n      <!-- 0 -->\n      <defs>\n       <path d=\"M 31.78125 66.40625 \nQ 24.171875 66.40625 20.328125 58.90625 \nQ 16.5 51.421875 16.5 36.375 \nQ 16.5 21.390625 20.328125 13.890625 \nQ 24.171875 6.390625 31.78125 6.390625 \nQ 39.453125 6.390625 43.28125 13.890625 \nQ 47.125 21.390625 47.125 36.375 \nQ 47.125 51.421875 43.28125 58.90625 \nQ 39.453125 66.40625 31.78125 66.40625 \nz\nM 31.78125 74.21875 \nQ 44.046875 74.21875 50.515625 64.515625 \nQ 56.984375 54.828125 56.984375 36.375 \nQ 56.984375 17.96875 50.515625 8.265625 \nQ 44.046875 -1.421875 31.78125 -1.421875 \nQ 19.53125 -1.421875 13.0625 8.265625 \nQ 6.59375 17.96875 6.59375 36.375 \nQ 6.59375 54.828125 13.0625 64.515625 \nQ 19.53125 74.21875 31.78125 74.21875 \nz\n\" id=\"DejaVuSans-48\"/>\n      </defs>\n      <g transform=\"translate(27.626607 239.238437)scale(0.1 -0.1)\">\n       <use xlink:href=\"#DejaVuSans-48\"/>\n      </g>\n     </g>\n    </g>\n    <g id=\"xtick_2\">\n     <g id=\"line2d_2\">\n      <g>\n       <use style=\"stroke:#000000;stroke-width:0.8;\" x=\"69.636429\" xlink:href=\"#maff49afdc5\" y=\"224.64\"/>\n      </g>\n     </g>\n     <g id=\"text_2\">\n      <!-- 5 -->\n      <defs>\n       <path d=\"M 10.796875 72.90625 \nL 49.515625 72.90625 \nL 49.515625 64.59375 \nL 19.828125 64.59375 \nL 19.828125 46.734375 \nQ 21.96875 47.46875 24.109375 47.828125 \nQ 26.265625 48.1875 28.421875 48.1875 \nQ 40.625 48.1875 47.75 41.5 \nQ 54.890625 34.8125 54.890625 23.390625 \nQ 54.890625 11.625 47.5625 5.09375 \nQ 40.234375 -1.421875 26.90625 -1.421875 \nQ 22.3125 -1.421875 17.546875 -0.640625 \nQ 12.796875 0.140625 7.71875 1.703125 \nL 7.71875 11.625 \nQ 12.109375 9.234375 16.796875 8.0625 \nQ 21.484375 6.890625 26.703125 6.890625 \nQ 35.15625 6.890625 40.078125 11.328125 \nQ 45.015625 15.765625 45.015625 23.390625 \nQ 45.015625 31 40.078125 35.4375 \nQ 35.15625 39.890625 26.703125 39.890625 \nQ 22.75 39.890625 18.8125 39.015625 \nQ 14.890625 38.140625 10.796875 36.28125 \nz\n\" id=\"DejaVuSans-53\"/>\n      </defs>\n      <g transform=\"translate(66.455179 239.238437)scale(0.1 -0.1)\">\n       <use xlink:href=\"#DejaVuSans-53\"/>\n      </g>\n     </g>\n    </g>\n    <g id=\"xtick_3\">\n     <g id=\"line2d_3\">\n      <g>\n       <use style=\"stroke:#000000;stroke-width:0.8;\" x=\"108.465\" xlink:href=\"#maff49afdc5\" y=\"224.64\"/>\n      </g>\n     </g>\n     <g id=\"text_3\">\n      <!-- 10 -->\n      <defs>\n       <path d=\"M 12.40625 8.296875 \nL 28.515625 8.296875 \nL 28.515625 63.921875 \nL 10.984375 60.40625 \nL 10.984375 69.390625 \nL 28.421875 72.90625 \nL 38.28125 72.90625 \nL 38.28125 8.296875 \nL 54.390625 8.296875 \nL 54.390625 0 \nL 12.40625 0 \nz\n\" id=\"DejaVuSans-49\"/>\n      </defs>\n      <g transform=\"translate(102.1025 239.238437)scale(0.1 -0.1)\">\n       <use xlink:href=\"#DejaVuSans-49\"/>\n       <use x=\"63.623047\" xlink:href=\"#DejaVuSans-48\"/>\n      </g>\n     </g>\n    </g>\n    <g id=\"xtick_4\">\n     <g id=\"line2d_4\">\n      <g>\n       <use style=\"stroke:#000000;stroke-width:0.8;\" x=\"147.293571\" xlink:href=\"#maff49afdc5\" y=\"224.64\"/>\n      </g>\n     </g>\n     <g id=\"text_4\">\n      <!-- 15 -->\n      <g transform=\"translate(140.931071 239.238437)scale(0.1 -0.1)\">\n       <use xlink:href=\"#DejaVuSans-49\"/>\n       <use x=\"63.623047\" xlink:href=\"#DejaVuSans-53\"/>\n      </g>\n     </g>\n    </g>\n    <g id=\"xtick_5\">\n     <g id=\"line2d_5\">\n      <g>\n       <use style=\"stroke:#000000;stroke-width:0.8;\" x=\"186.122143\" xlink:href=\"#maff49afdc5\" y=\"224.64\"/>\n      </g>\n     </g>\n     <g id=\"text_5\">\n      <!-- 20 -->\n      <defs>\n       <path d=\"M 19.1875 8.296875 \nL 53.609375 8.296875 \nL 53.609375 0 \nL 7.328125 0 \nL 7.328125 8.296875 \nQ 12.9375 14.109375 22.625 23.890625 \nQ 32.328125 33.6875 34.8125 36.53125 \nQ 39.546875 41.84375 41.421875 45.53125 \nQ 43.3125 49.21875 43.3125 52.78125 \nQ 43.3125 58.59375 39.234375 62.25 \nQ 35.15625 65.921875 28.609375 65.921875 \nQ 23.96875 65.921875 18.8125 64.3125 \nQ 13.671875 62.703125 7.8125 59.421875 \nL 7.8125 69.390625 \nQ 13.765625 71.78125 18.9375 73 \nQ 24.125 74.21875 28.421875 74.21875 \nQ 39.75 74.21875 46.484375 68.546875 \nQ 53.21875 62.890625 53.21875 53.421875 \nQ 53.21875 48.921875 51.53125 44.890625 \nQ 49.859375 40.875 45.40625 35.40625 \nQ 44.1875 33.984375 37.640625 27.21875 \nQ 31.109375 20.453125 19.1875 8.296875 \nz\n\" id=\"DejaVuSans-50\"/>\n      </defs>\n      <g transform=\"translate(179.759643 239.238437)scale(0.1 -0.1)\">\n       <use xlink:href=\"#DejaVuSans-50\"/>\n       <use x=\"63.623047\" xlink:href=\"#DejaVuSans-48\"/>\n      </g>\n     </g>\n    </g>\n    <g id=\"xtick_6\">\n     <g id=\"line2d_6\">\n      <g>\n       <use style=\"stroke:#000000;stroke-width:0.8;\" x=\"224.950714\" xlink:href=\"#maff49afdc5\" y=\"224.64\"/>\n      </g>\n     </g>\n     <g id=\"text_6\">\n      <!-- 25 -->\n      <g transform=\"translate(218.588214 239.238437)scale(0.1 -0.1)\">\n       <use xlink:href=\"#DejaVuSans-50\"/>\n       <use x=\"63.623047\" xlink:href=\"#DejaVuSans-53\"/>\n      </g>\n     </g>\n    </g>\n   </g>\n   <g id=\"matplotlib.axis_2\">\n    <g id=\"ytick_1\">\n     <g id=\"line2d_7\">\n      <defs>\n       <path d=\"M 0 0 \nL -3.5 0 \n\" id=\"md0381e7da2\" style=\"stroke:#000000;stroke-width:0.8;\"/>\n      </defs>\n      <g>\n       <use style=\"stroke:#000000;stroke-width:0.8;\" x=\"26.925\" xlink:href=\"#md0381e7da2\" y=\"11.082857\"/>\n      </g>\n     </g>\n     <g id=\"text_7\">\n      <!-- 0 -->\n      <g transform=\"translate(13.5625 14.882076)scale(0.1 -0.1)\">\n       <use xlink:href=\"#DejaVuSans-48\"/>\n      </g>\n     </g>\n    </g>\n    <g id=\"ytick_2\">\n     <g id=\"line2d_8\">\n      <g>\n       <use style=\"stroke:#000000;stroke-width:0.8;\" x=\"26.925\" xlink:href=\"#md0381e7da2\" y=\"49.911429\"/>\n      </g>\n     </g>\n     <g id=\"text_8\">\n      <!-- 5 -->\n      <g transform=\"translate(13.5625 53.710647)scale(0.1 -0.1)\">\n       <use xlink:href=\"#DejaVuSans-53\"/>\n      </g>\n     </g>\n    </g>\n    <g id=\"ytick_3\">\n     <g id=\"line2d_9\">\n      <g>\n       <use style=\"stroke:#000000;stroke-width:0.8;\" x=\"26.925\" xlink:href=\"#md0381e7da2\" y=\"88.74\"/>\n      </g>\n     </g>\n     <g id=\"text_9\">\n      <!-- 10 -->\n      <g transform=\"translate(7.2 92.539219)scale(0.1 -0.1)\">\n       <use xlink:href=\"#DejaVuSans-49\"/>\n       <use x=\"63.623047\" xlink:href=\"#DejaVuSans-48\"/>\n      </g>\n     </g>\n    </g>\n    <g id=\"ytick_4\">\n     <g id=\"line2d_10\">\n      <g>\n       <use style=\"stroke:#000000;stroke-width:0.8;\" x=\"26.925\" xlink:href=\"#md0381e7da2\" y=\"127.568571\"/>\n      </g>\n     </g>\n     <g id=\"text_10\">\n      <!-- 15 -->\n      <g transform=\"translate(7.2 131.36779)scale(0.1 -0.1)\">\n       <use xlink:href=\"#DejaVuSans-49\"/>\n       <use x=\"63.623047\" xlink:href=\"#DejaVuSans-53\"/>\n      </g>\n     </g>\n    </g>\n    <g id=\"ytick_5\">\n     <g id=\"line2d_11\">\n      <g>\n       <use style=\"stroke:#000000;stroke-width:0.8;\" x=\"26.925\" xlink:href=\"#md0381e7da2\" y=\"166.397143\"/>\n      </g>\n     </g>\n     <g id=\"text_11\">\n      <!-- 20 -->\n      <g transform=\"translate(7.2 170.196362)scale(0.1 -0.1)\">\n       <use xlink:href=\"#DejaVuSans-50\"/>\n       <use x=\"63.623047\" xlink:href=\"#DejaVuSans-48\"/>\n      </g>\n     </g>\n    </g>\n    <g id=\"ytick_6\">\n     <g id=\"line2d_12\">\n      <g>\n       <use style=\"stroke:#000000;stroke-width:0.8;\" x=\"26.925\" xlink:href=\"#md0381e7da2\" y=\"205.225714\"/>\n      </g>\n     </g>\n     <g id=\"text_12\">\n      <!-- 25 -->\n      <g transform=\"translate(7.2 209.024933)scale(0.1 -0.1)\">\n       <use xlink:href=\"#DejaVuSans-50\"/>\n       <use x=\"63.623047\" xlink:href=\"#DejaVuSans-53\"/>\n      </g>\n     </g>\n    </g>\n   </g>\n   <g id=\"patch_3\">\n    <path d=\"M 26.925 224.64 \nL 26.925 7.2 \n\" style=\"fill:none;stroke:#000000;stroke-linecap:square;stroke-linejoin:miter;stroke-width:0.8;\"/>\n   </g>\n   <g id=\"patch_4\">\n    <path d=\"M 244.365 224.64 \nL 244.365 7.2 \n\" style=\"fill:none;stroke:#000000;stroke-linecap:square;stroke-linejoin:miter;stroke-width:0.8;\"/>\n   </g>\n   <g id=\"patch_5\">\n    <path d=\"M 26.925 224.64 \nL 244.365 224.64 \n\" style=\"fill:none;stroke:#000000;stroke-linecap:square;stroke-linejoin:miter;stroke-width:0.8;\"/>\n   </g>\n   <g id=\"patch_6\">\n    <path d=\"M 26.925 7.2 \nL 244.365 7.2 \n\" style=\"fill:none;stroke:#000000;stroke-linecap:square;stroke-linejoin:miter;stroke-width:0.8;\"/>\n   </g>\n  </g>\n </g>\n <defs>\n  <clipPath id=\"p5f152f9d19\">\n   <rect height=\"217.44\" width=\"217.44\" x=\"26.925\" y=\"7.2\"/>\n  </clipPath>\n </defs>\n</svg>\n"
          },
          "metadata": {
            "needs_background": "light"
          }
        }
      ]
    }
  ]
}